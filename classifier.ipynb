{
 "cells": [
  {
   "cell_type": "code",
   "execution_count": 1,
   "metadata": {},
   "outputs": [
    {
     "name": "stderr",
     "output_type": "stream",
     "text": [
      "/home/pasha/image_classification/.venv/lib/python3.12/site-packages/tqdm/auto.py:21: TqdmWarning: IProgress not found. Please update jupyter and ipywidgets. See https://ipywidgets.readthedocs.io/en/stable/user_install.html\n",
      "  from .autonotebook import tqdm as notebook_tqdm\n"
     ]
    },
    {
     "name": "stdout",
     "output_type": "stream",
     "text": [
      "Path to dataset files: /home/pasha/.cache/kagglehub/datasets/sumn2u/garbage-classification-v2/versions/8\n"
     ]
    }
   ],
   "source": [
    "import kagglehub\n",
    "\n",
    "# Download latest version\n",
    "path = kagglehub.dataset_download(\"sumn2u/garbage-classification-v2\")\n",
    "\n",
    "print(\"Path to dataset files:\", path)"
   ]
  },
  {
   "cell_type": "code",
   "execution_count": 2,
   "metadata": {},
   "outputs": [
    {
     "name": "stdout",
     "output_type": "stream",
     "text": [
      "['trash', 'glass', 'battery', 'clothes', 'metal', 'plastic', 'cardboard', 'paper', 'biological', 'shoes']\n"
     ]
    }
   ],
   "source": [
    "import os\n",
    "import cv2\n",
    "import numpy as np\n",
    "import pandas as pd\n",
    "classes = os.listdir(os.path.join(path, \"garbage-dataset\"))\n",
    "print(classes)"
   ]
  },
  {
   "cell_type": "markdown",
   "metadata": {},
   "source": [
    "## Извлечение фичей"
   ]
  },
  {
   "cell_type": "code",
   "execution_count": 3,
   "metadata": {},
   "outputs": [],
   "source": [
    "def calculate_yellow_amount(image):\n",
    "    \"\"\"Calculate the amount of yellow color in the image.\"\"\"\n",
    "    hsv_image = cv2.cvtColor(image, cv2.COLOR_BGR2HSV)\n",
    "    lower_yellow = np.array([20, 100, 100])\n",
    "    upper_yellow = np.array([30, 255, 255])\n",
    "    yellow_mask = cv2.inRange(hsv_image, lower_yellow, upper_yellow)\n",
    "    yellow_amount = cv2.countNonZero(yellow_mask)\n",
    "    return yellow_amount\n",
    "\n",
    "def calculate_silver_amount(image):\n",
    "    \"\"\"Calculate the amount of silver color in the image.\"\"\"\n",
    "    hsv_image = cv2.cvtColor(image, cv2.COLOR_BGR2HSV)\n",
    "    lower_silver = np.array([0, 0, 200])\n",
    "    upper_silver = np.array([180, 25, 255])\n",
    "    silver_mask = cv2.inRange(hsv_image, lower_silver, upper_silver)\n",
    "    silver_amount = cv2.countNonZero(silver_mask)\n",
    "    return silver_amount\n",
    "\n",
    "def calculate_parallel_lines(image):\n",
    "    \"\"\"Calculate the amount of parallel lines in the image.\"\"\"\n",
    "    gray_image = cv2.cvtColor(image, cv2.COLOR_BGR2GRAY)\n",
    "    edges = cv2.Canny(gray_image, 50, 150, apertureSize=3)\n",
    "    \n",
    "    # Detect lines using Hough Transform\n",
    "    lines = cv2.HoughLines(edges, 1, np.pi / 180, threshold=100)\n",
    "    \n",
    "    if lines is not None:\n",
    "        return len(lines)  # Return the number of detected lines\n",
    "    return 0  # No lines detected\n",
    "\n",
    "def get_features(image):\n",
    "    \"\"\"Get a set of features (yellow amount, silver amount, parallel lines) from the image.\"\"\"\n",
    "    yellow_amount = calculate_yellow_amount(image)\n",
    "    silver_amount = calculate_silver_amount(image)\n",
    "    parallel_lines = calculate_parallel_lines(image)\n",
    "    return yellow_amount, silver_amount, parallel_lines"
   ]
  },
  {
   "cell_type": "code",
   "execution_count": 17,
   "metadata": {},
   "outputs": [
    {
     "name": "stdout",
     "output_type": "stream",
     "text": [
      "(15834, 284114, 140)\n"
     ]
    }
   ],
   "source": [
    "test_im = image = cv2.imread(path + \"/garbage-dataset/cardboard/cardboard_25.jpg\")\n",
    "print(get_features(test_im))"
   ]
  },
  {
   "cell_type": "markdown",
   "metadata": {},
   "source": [
    "## Обучение классификатора"
   ]
  },
  {
   "cell_type": "code",
   "execution_count": 5,
   "metadata": {},
   "outputs": [
    {
     "name": "stdout",
     "output_type": "stream",
     "text": [
      "Accuracy: 0.3458133063496079\n",
      "              precision    recall  f1-score   support\n",
      "\n",
      "     battery       0.27      0.22      0.24       192\n",
      "  biological       0.26      0.33      0.29       190\n",
      "   cardboard       0.38      0.39      0.39       386\n",
      "     clothes       0.51      0.67      0.58      1086\n",
      "       glass       0.24      0.22      0.23       617\n",
      "       metal       0.08      0.07      0.08       191\n",
      "       paper       0.28      0.21      0.24       343\n",
      "     plastic       0.22      0.16      0.19       392\n",
      "       shoes       0.20      0.16      0.18       392\n",
      "       trash       0.23      0.21      0.22       164\n",
      "\n",
      "    accuracy                           0.35      3953\n",
      "   macro avg       0.27      0.26      0.26      3953\n",
      "weighted avg       0.32      0.35      0.33      3953\n",
      "\n",
      "Predicted class: metal\n"
     ]
    },
    {
     "name": "stderr",
     "output_type": "stream",
     "text": [
      "/home/pasha/image_classification/.venv/lib/python3.12/site-packages/sklearn/utils/validation.py:2739: UserWarning: X does not have valid feature names, but RandomForestClassifier was fitted with feature names\n",
      "  warnings.warn(\n"
     ]
    }
   ],
   "source": [
    "import os\n",
    "import cv2\n",
    "import numpy as np\n",
    "import pandas as pd\n",
    "from sklearn.model_selection import train_test_split\n",
    "from sklearn.ensemble import RandomForestClassifier\n",
    "from sklearn.metrics import classification_report, accuracy_score\n",
    "\n",
    "# Define the path to the dataset\n",
    "base_path = path + \"/garbage-dataset\"\n",
    "classes = ['trash', 'glass', 'battery', 'clothes', 'metal', 'plastic', 'cardboard', 'paper', 'biological', 'shoes']\n",
    "\n",
    "# Initialize lists to hold features and labels\n",
    "features = []\n",
    "labels = []\n",
    "\n",
    "# Loop through each class and extract features from images\n",
    "for class_name in classes:\n",
    "    class_path = os.path.join(base_path, class_name)\n",
    "    \n",
    "    for image_name in os.listdir(class_path):\n",
    "        image_path = os.path.join(class_path, image_name)\n",
    "        \n",
    "        # Read the image\n",
    "        image = cv2.imread(image_path)\n",
    "        \n",
    "        if image is not None:\n",
    "            # Use the new functions to calculate yellow and silver amounts and parallel lines\n",
    "            yellow_amount, silver_amount, parallel_lines = get_features(image)\n",
    "            features.append([yellow_amount, silver_amount, parallel_lines])\n",
    "            labels.append(class_name)\n",
    "\n",
    "# Convert features and labels to a DataFrame\n",
    "df = pd.DataFrame(features, columns=['yellow_amount', 'silver_amount', 'parallel_lines'])\n",
    "df['label'] = labels\n",
    "\n",
    "# Split the dataset into training and testing sets\n",
    "X = df[['yellow_amount', 'silver_amount', 'parallel_lines']]\n",
    "y = df['label']\n",
    "X_train, X_test, y_train, y_test = train_test_split(X, y, test_size=0.2, random_state=42)\n",
    "\n",
    "# Train a Random Forest Classifier\n",
    "classifier = RandomForestClassifier(n_estimators=100, random_state=42)\n",
    "classifier.fit(X_train, y_train)\n",
    "\n",
    "# Make predictions on the test set\n",
    "y_pred = classifier.predict(X_test)\n",
    "\n",
    "# Evaluate the model\n",
    "print(\"Accuracy:\", accuracy_score(y_test, y_pred))\n",
    "print(classification_report(y_test, y_pred))\n",
    "\n",
    "# Function to classify a new image\n",
    "def classify_image(image_path):\n",
    "    image = cv2.imread(image_path)\n",
    "    if image is not None:\n",
    "        # Use the new functions to calculate yellow and silver amounts and parallel lines\n",
    "        yellow_amount, silver_amount, parallel_lines = get_features(image)\n",
    "        feature = np.array([[yellow_amount, silver_amount, parallel_lines]])\n",
    "        prediction = classifier.predict(feature)\n",
    "        return prediction[0]\n",
    "    else:\n",
    "        return None\n",
    "\n",
    "result = classify_image(path + '/garbage-dataset/metal/metal_286.jpg')  # Adjust the path to a specific image\n",
    "print(\"Predicted class:\", result)"
   ]
  },
  {
   "cell_type": "code",
   "execution_count": 27,
   "metadata": {},
   "outputs": [
    {
     "name": "stdout",
     "output_type": "stream",
     "text": [
      "Predicted class: cardboard\n"
     ]
    },
    {
     "name": "stderr",
     "output_type": "stream",
     "text": [
      "/home/pasha/image_classification/.venv/lib/python3.12/site-packages/sklearn/utils/validation.py:2739: UserWarning: X does not have valid feature names, but RandomForestClassifier was fitted with feature names\n",
      "  warnings.warn(\n"
     ]
    }
   ],
   "source": [
    "result = classify_image(path + '/garbage-dataset/cardboard/cardboard_169.jpg')  # Adjust the path to a specific image\n",
    "print(\"Predicted class:\", result)"
   ]
  },
  {
   "cell_type": "markdown",
   "metadata": {},
   "source": [
    "## Проверка гипотез"
   ]
  }
 ],
 "metadata": {
  "kernelspec": {
   "display_name": ".venv",
   "language": "python",
   "name": "python3"
  },
  "language_info": {
   "codemirror_mode": {
    "name": "ipython",
    "version": 3
   },
   "file_extension": ".py",
   "mimetype": "text/x-python",
   "name": "python",
   "nbconvert_exporter": "python",
   "pygments_lexer": "ipython3",
   "version": "3.12.7"
  }
 },
 "nbformat": 4,
 "nbformat_minor": 2
}
