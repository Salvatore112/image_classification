{
 "cells": [
  {
   "cell_type": "markdown",
   "metadata": {},
   "source": [
    "## Описание и проверка гипотез"
   ]
  },
  {
   "cell_type": "markdown",
   "metadata": {},
   "source": [
    "### Импорты"
   ]
  },
  {
   "cell_type": "code",
   "execution_count": 5,
   "metadata": {},
   "outputs": [],
   "source": [
    "import os\n",
    "import kagglehub\n",
    "import cv2\n",
    "import src.image_classification.features as feat\n",
    "import numpy as np\n",
    "import pandas as pd\n",
    "\n",
    "from sklearn.preprocessing import LabelEncoder\n",
    "from scipy.stats import mannwhitneyu, spearmanr, kruskal, levene, ttest_ind, pearsonr, chi2_contingency, f_oneway"
   ]
  },
  {
   "cell_type": "markdown",
   "metadata": {},
   "source": [
    "### Основной путь и классы, с которыми будет идти работа"
   ]
  },
  {
   "cell_type": "code",
   "execution_count": 6,
   "metadata": {},
   "outputs": [],
   "source": [
    "path = kagglehub.dataset_download(\"sumn2u/garbage-classification-v2\")\n",
    "classes = os.listdir(os.path.join(path, \"garbage-dataset\"))"
   ]
  },
  {
   "cell_type": "markdown",
   "metadata": {},
   "source": [
    "### Гипотеза №1 О наличие картона на картинке можно судить по скосу желтого цвета.\n",
    "\n",
    "В данной гипотезе мы предполагаем, что цветовая характеристика изображения, а именно наличие желтого цвета, может служить индикатором присутствия картона на картинке. Исходя из наблюдений, мы предполагаем, что изображения, содержащие картон, будут иметь более выраженный желтый оттенок по сравнению с изображениями, не содержащими этот материал.\n",
    "\n",
    "\n",
    "- Способы проверки:\n",
    "\n",
    "    - **t-критерий Стьюдента (t-test)**: Этот метод будет использован для сравнения средней доли желтого цвета между двумя группами. Мы проверим нулевую гипотезу о том, что средние значения доли желтого цвета в обеих группах не отличаются.\n",
    "\n",
    "    - **ANOVA (дисперсионный анализ)**: Если у нас есть более двух групп (например, различные виды картона и другие материалы), ANOVA поможет определить, есть ли значимые различия в количестве желтого цвета между всеми группами.\n",
    "\n",
    "    - **Критерий Манна-Уитни (U-тест)**: Непараметрический тест для сравнения распределений двух групп (в данном случае картон и другие классы)."
   ]
  },
  {
   "cell_type": "code",
   "execution_count": 7,
   "metadata": {},
   "outputs": [
    {
     "name": "stdout",
     "output_type": "stream",
     "text": [
      "t-test: Statistic = 3.683066343249196, p-value = 0.00023621963453461276\n",
      "ANOVA: Statistic = 16.865194578791744, p-value = 4.0292196417557166e-05\n",
      "Mann-Whitney: Statistic = 22080315.5, p-value = 1.0126318223771204e-146\n",
      "Итог: гипотеза подтверждена: наличие картона связано c желтым цветом.\n"
     ]
    }
   ],
   "source": [
    "cardboard_path = os.path.join(path + \"/garbage-dataset\", \"cardboard\")\n",
    "other_paths = [os.path.join(path + \"/garbage-dataset\", cls) for cls in classes if cls != \"cardboard\"]\n",
    "\n",
    "def load_images_from_folder(folder):\n",
    "    images = []\n",
    "    for filename in os.listdir(folder):\n",
    "        filepath = os.path.join(folder, filename)\n",
    "        image = cv2.imread(filepath)\n",
    "        if image is not None: \n",
    "            images.append(image)\n",
    "    return images\n",
    "\n",
    "yellow_feature = feat.AmountOfYellow()\n",
    "\n",
    "cardboard_images = load_images_from_folder(cardboard_path)\n",
    "cardboard_yellow_amounts = [yellow_feature(img) for img in cardboard_images]\n",
    "\n",
    "other_yellow_amounts = []\n",
    "for other_path in other_paths:\n",
    "    other_images = load_images_from_folder(other_path)\n",
    "    other_yellow_amounts.extend([yellow_feature(img) for img in other_images])\n",
    "\n",
    "# Проверка гипотез\n",
    "# 1. t-критерий Стьюдента\n",
    "t_stat, t_pvalue = ttest_ind(cardboard_yellow_amounts, other_yellow_amounts, equal_var=False)\n",
    "\n",
    "# 2. ANOVA\n",
    "anova_stat, anova_pvalue = f_oneway(cardboard_yellow_amounts, other_yellow_amounts)\n",
    "\n",
    "# 3. Критерий Манна-Уитни\n",
    "mann_stat, mann_pvalue = mannwhitneyu(cardboard_yellow_amounts, other_yellow_amounts, alternative='two-sided')\n",
    "\n",
    "results = {\n",
    "    \"t-test\": {\"statistic\": t_stat, \"p-value\": t_pvalue},\n",
    "    \"ANOVA\": {\"statistic\": anova_stat, \"p-value\": anova_pvalue},\n",
    "    \"Mann-Whitney\": {\"statistic\": mann_stat, \"p-value\": mann_pvalue},\n",
    "}\n",
    "\n",
    "for test, result in results.items():\n",
    "    print(f\"{test}: Statistic = {result['statistic']}, p-value = {result['p-value']}\")\n",
    "\n",
    "alpha = 0.05\n",
    "hypothesis_results = {test: result['p-value'] < alpha for test, result in results.items()}\n",
    "\n",
    "if all(hypothesis_results.values()):\n",
    "    print(\"Итог: гипотеза подтверждена: наличие картона связано c желтым цветом.\")\n",
    "else:\n",
    "    print(\"Итог: гипотеза не подтверждена: наличие картона не связано c желтым цветом.\")"
   ]
  },
  {
   "cell_type": "markdown",
   "metadata": {},
   "source": [
    "### Гипотеза №2 О наличие металла на картинке можно судить по скосу серого (серебряного) цвета.\n",
    "\n",
    "В данной гипотезе мы предполагаем, что цветовая характеристика изображения, а именно наличие серого или серебряного цвета, может служить индикатором присутствия металла на картинке. Мы предполагаем, что изображения, содержащие металл, будут иметь более выраженный серый оттенок по сравнению с изображениями других классов.\n",
    "\n",
    "- Способы проверки:\n",
    "\n",
    "    - **t-критерий Стьюдента (t-test)**: Этот метод будет использован для сравнения средней доли серебряного цвета между двумя группами. Мы проверим нулевую гипотезу о том, что средние значения доли серебряного цвета в обеих группах не отличаются.\n",
    "\n",
    "    - **ANOVA (дисперсионный анализ)**: Если у нас есть более двух групп (например, различные виды металлов и другие материалы), ANOVA поможет определить, есть ли значимые различия в количестве серебряного цвета между всеми группами. \n",
    "\n",
    "    - **Критерий Манна-Уитни (U-тест)**: Непараметрический тест для сравнения распределений двух групп (в данном случае металл и другие классы)."
   ]
  },
  {
   "cell_type": "code",
   "execution_count": 8,
   "metadata": {},
   "outputs": [
    {
     "name": "stdout",
     "output_type": "stream",
     "text": [
      "t-test: Statistic = -2.284424004913432, p-value = 0.022401779559765453\n",
      "ANOVA: Statistic = 0.5733189930562239, p-value = 0.448952071385762\n",
      "Mann-Whitney: Statistic = 10996543.5, p-value = 5.262970510833023e-16\n",
      "Итог: гипотеза не подтверждена: наличие металла не связано c серебряным цветом.\n"
     ]
    }
   ],
   "source": [
    "metal_path = os.path.join(path + \"/garbage-dataset\", \"metal\")\n",
    "other_paths = [os.path.join(path + \"/garbage-dataset\", cls) for cls in classes if cls != \"metal\"]\n",
    "\n",
    "def load_images_from_folder(folder):\n",
    "    images = []\n",
    "    for filename in os.listdir(folder):\n",
    "        filepath = os.path.join(folder, filename)\n",
    "        image = cv2.imread(filepath)\n",
    "        if image is not None:\n",
    "            images.append(image)\n",
    "    return images\n",
    "\n",
    "silver_feature = feat.AmountOfSilver()\n",
    "\n",
    "metal_images = load_images_from_folder(metal_path)\n",
    "metal_silver_amounts = [silver_feature(img) for img in metal_images]\n",
    "\n",
    "other_silver_amounts = []\n",
    "for other_path in other_paths:\n",
    "    other_images = load_images_from_folder(other_path)\n",
    "    other_silver_amounts.extend([silver_feature(img) for img in other_images])\n",
    "\n",
    "# Проверка гипотез\n",
    "# 1. t-критерий Стьюдента\n",
    "t_stat, t_pvalue = ttest_ind(metal_silver_amounts, other_silver_amounts, equal_var=False)\n",
    "\n",
    "# 2. ANOVA\n",
    "anova_stat, anova_pvalue = f_oneway(metal_silver_amounts, other_silver_amounts)\n",
    "\n",
    "# 3. Критерий Манна-Уитни\n",
    "mann_stat, mann_pvalue = mannwhitneyu(metal_silver_amounts, other_silver_amounts, alternative='two-sided')\n",
    "\n",
    "results = {\n",
    "    \"t-test\": {\"statistic\": t_stat, \"p-value\": t_pvalue},\n",
    "    \"ANOVA\": {\"statistic\": anova_stat, \"p-value\": anova_pvalue},\n",
    "    \"Mann-Whitney\": {\"statistic\": mann_stat, \"p-value\": mann_pvalue},\n",
    "}\n",
    "\n",
    "for test, result in results.items():\n",
    "    print(f\"{test}: Statistic = {result['statistic']}, p-value = {result['p-value']}\")\n",
    "\n",
    "alpha = 0.05\n",
    "hypothesis_results = {test: result['p-value'] < alpha for test, result in results.items()}\n",
    "\n",
    "if all(hypothesis_results.values()):\n",
    "    print(\"Итог: гипотеза подтверждена: наличие металла связано c серебряным цветом.\")\n",
    "else:\n",
    "    print(\"Итог: гипотеза не подтверждена: наличие металла не связано c серебряным цветом.\")"
   ]
  },
  {
   "cell_type": "markdown",
   "metadata": {},
   "source": [
    "### Гипотеза №3 На картинках с картоном присутствует множество параллельных линий.\n",
    "\n",
    "На картинках с картоном присутствует множество параллельных линий, что может быть связано с характерными текстурами и структурой материала. Данная гипотеза предполагает, что изображения с картоном содержат больше параллельных линий по сравнению с изображениями других классов.\n",
    "\n",
    "- Способы проверки:\n",
    "\n",
    "    - **t-критерий Стьюдента (t-test)**: тот метод позволяет сравнить среднюю долю параллельных линий в картинках с картоном и других классах. Мы рассчитываем t-статистику и p-значение, чтобы определить, есть ли статистически значимые различия между двумя группами.\n",
    "\n",
    "    - **ANOVA (дисперсионный анализ)**: Данный подход позволяет проверить, существуют ли значимые различия между несколькими группами (в данном случае между картоном и другими классами) по количеству параллельных линий. ANOVA помогает определить, влияет ли класс изображения на количество параллельных линий.\n",
    "\n",
    "    - **Критерий хи-квадрат**: Этот тест позволяет проверить гипотезу о различии долей изображений с высокими количествами параллельных линий между картоном и другими классами. Мы анализируем, сколько изображений из каждой группы попадает в категорию с высоким количеством параллельных линий и сравниваем эти данные."
   ]
  },
  {
   "cell_type": "code",
   "execution_count": 9,
   "metadata": {},
   "outputs": [
    {
     "name": "stdout",
     "output_type": "stream",
     "text": [
      "t-test: Statistic = -11.379057124078555, p-value = 1.9776123451846287e-29\n",
      "ANOVA: Statistic = 52.405427227996164, p-value = 4.680228101392663e-13\n",
      "Chi-square: Statistic = 19.34257889433447, p-value = 1.0924297310604447e-05\n",
      "Итог: гипотеза подтверждена: изображения c картоном имеют больше параллельных линий.\n"
     ]
    }
   ],
   "source": [
    "cardboard_path = os.path.join(path + \"/garbage-dataset\", \"cardboard\")\n",
    "other_paths = [os.path.join(path + \"/garbage-dataset\", cls) for cls in classes if cls != \"cardboard\"]\n",
    "\n",
    "def load_images_from_folder(folder):\n",
    "    images = []\n",
    "    for filename in os.listdir(folder):\n",
    "        filepath = os.path.join(folder, filename)\n",
    "        image = cv2.imread(filepath)\n",
    "        if image is not None:\n",
    "            images.append(image)\n",
    "    return images\n",
    "\n",
    "# Load images\n",
    "cardboard_images = load_images_from_folder(cardboard_path)\n",
    "\n",
    "# Create an instance of the AmountOfParallelLines feature extractor\n",
    "parallel_lines_feature_extractor = feat.AmountOfParallelLines()\n",
    "\n",
    "# Calculate features for cardboard images\n",
    "cardboard_features = [parallel_lines_feature_extractor(img) for img in cardboard_images]\n",
    "\n",
    "other_features = []\n",
    "for other_path in other_paths:\n",
    "    other_images = load_images_from_folder(other_path)\n",
    "    other_features.extend([parallel_lines_feature_extractor(img) for img in other_images])\n",
    "\n",
    "# Hypothesis testing\n",
    "# 1. Student's t-test\n",
    "t_stat, t_pvalue = ttest_ind(cardboard_features, other_features, equal_var=False)\n",
    "\n",
    "# 2. ANOVA\n",
    "anova_stat, anova_pvalue = f_oneway(cardboard_features, other_features)\n",
    "\n",
    "# 3. Chi-square test\n",
    "threshold = np.percentile(cardboard_features, 75) \n",
    "cardboard_high = sum(x >= threshold for x in cardboard_features)\n",
    "cardboard_low = len(cardboard_features) - cardboard_high\n",
    "other_high = sum(x >= threshold for x in other_features)\n",
    "other_low = len(other_features) - other_high\n",
    "chi2_stat, chi2_pvalue, _, _ = chi2_contingency([[cardboard_high, cardboard_low], [other_high, other_low]])\n",
    "\n",
    "# Collect results\n",
    "results = {\n",
    "    \"t-test\": {\"statistic\": t_stat, \"p-value\": t_pvalue},\n",
    "    \"ANOVA\": {\"statistic\": anova_stat, \"p-value\": anova_pvalue},\n",
    "    \"Chi-square\": {\"statistic\": chi2_stat, \"p-value\": chi2_pvalue},\n",
    "}\n",
    "\n",
    "# Print results\n",
    "for test, result in results.items():\n",
    "    print(f\"{test}: Statistic = {result['statistic']}, p-value = {result['p-value']}\")\n",
    "\n",
    "# Final hypothesis check\n",
    "alpha = 0.05\n",
    "hypothesis_results = {test: result['p-value'] < alpha for test, result in results.items()}\n",
    "\n",
    "if all(hypothesis_results.values()):\n",
    "    print(\"Итог: гипотеза подтверждена: изображения c картоном имеют больше параллельных линий.\")\n",
    "else:\n",
    "    print(\"Итог: гипотеза не подтверждена: изображения c картоном не имеют значительно больше параллельных линий.\")"
   ]
  },
  {
   "cell_type": "markdown",
   "metadata": {},
   "source": [
    "### Гипотеза №5 Металлические поверхности часто имеют высокую отражающую способность. \n",
    "\n",
    "Металлические поверхности, как правило, обладают высокой отражающей способностью, что делает их уникальными в сравнении с другими материалами. Высокая отражающая способность металла может влиять на визуальное восприятие объектов. В данном эксперименте мы стремимся проверить, действительно ли металлические поверхности обладают более высоким уровнем отражений по сравнению с другими классами материалов.\n",
    "\n",
    "- Способы проверки:\n",
    "\n",
    "    - **t-критерий Стьюдента (t-test):**  Этот метод позволяет сравнить среднюю отражающую способность изображений металла и других классов. Мы будем использовать его для определения, существуют ли статистически значимые различия между этими двумя группами.\n",
    "\n",
    "    - **Корреляция Пирсона:** С помощью этого теста мы проверим наличие линейной связи между количеством отражений и принадлежностью к классу \"металл\". Это поможет нам понять, насколько сильно отражающая способность связана с материалом.\n",
    "\n",
    "    - **Критерий хи-квадрат:** Этот тест будет использован для проверки отличий доли изображений с высоким уровнем отражений между металлом и другими классами. Мы разделим изображения на две группы: с высоким уровнем отражений и с низким, и проверим, есть ли статистически значимые различия между ними."
   ]
  },
  {
   "cell_type": "code",
   "execution_count": 10,
   "metadata": {},
   "outputs": [
    {
     "name": "stdout",
     "output_type": "stream",
     "text": [
      "t-test: Statistic = -2.5612454595984153, p-value = 0.010464870898548239\n",
      "Pearson Correlation: Statistic = 0.005891723334828736, p-value = 0.407558471373331\n",
      "Chi-square: Statistic = 35.91242941824723, p-value = 2.0638790312840235e-09\n",
      "Итог: гипотеза не подтверждена: наличие металла не связано с высоким уровнем отражений.\n"
     ]
    }
   ],
   "source": [
    "metal_path = os.path.join(path + \"/garbage-dataset\", \"metal\")\n",
    "other_paths = [os.path.join(path + \"/garbage-dataset\", cls) for cls in classes if cls != \"metal\"]\n",
    "\n",
    "def load_images_from_folder(folder):\n",
    "    images = []\n",
    "    for filename in os.listdir(folder):\n",
    "        filepath = os.path.join(folder, filename)\n",
    "        image = cv2.imread(filepath)\n",
    "        if image is not None:\n",
    "            images.append(image)\n",
    "    return images\n",
    "\n",
    "reflection_calculator = feat.AmountOfReflections()\n",
    "\n",
    "metal_images = load_images_from_folder(metal_path)\n",
    "metal_reflections = [reflection_calculator(img) for img in metal_images]\n",
    "\n",
    "other_reflections = []\n",
    "for other_path in other_paths:\n",
    "    other_images = load_images_from_folder(other_path)\n",
    "    other_reflections.extend([reflection_calculator(img) for img in other_images])\n",
    "\n",
    "# 1. t-критерий Стьюдента\n",
    "t_stat, t_pvalue = ttest_ind(metal_reflections, other_reflections, equal_var=False)\n",
    "\n",
    "# 2. Корреляция Пирсона\n",
    "le = LabelEncoder()\n",
    "all_reflections = metal_reflections + other_reflections\n",
    "all_labels = ['metal'] * len(metal_reflections) + ['other'] * len(other_reflections)\n",
    "numeric_labels = le.fit_transform(all_labels)\n",
    "\n",
    "correlation, p_value_corr = pearsonr(all_reflections, numeric_labels)\n",
    "\n",
    "# 3. Тест хи-квадрат\n",
    "reflection_binary = [1 if reflection >= 100 else 0 for reflection in all_reflections]\n",
    "contingency_table = pd.crosstab(reflection_binary, numeric_labels)\n",
    "chi2_stat, p_value_chi2, _, _ = chi2_contingency(contingency_table)\n",
    "\n",
    "results = {\n",
    "    \"t-test\": {\"statistic\": t_stat, \"p-value\": t_pvalue},\n",
    "    \"Pearson Correlation\": {\"statistic\": correlation, \"p-value\": p_value_corr},\n",
    "    \"Chi-square\": {\"statistic\": chi2_stat, \"p-value\": p_value_chi2},\n",
    "}\n",
    "\n",
    "for test, result in results.items():\n",
    "    print(f\"{test}: Statistic = {result['statistic']}, p-value = {result['p-value']}\")\n",
    "\n",
    "alpha = 0.05\n",
    "hypothesis_results = {test: result['p-value'] < alpha for test, result in results.items()}\n",
    "\n",
    "if all(hypothesis_results.values()):\n",
    "    print(\"Итог: гипотеза подтверждена: наличие металла связано с высоким уровнем отражений.\")\n",
    "else:\n",
    "    print(\"Итог: гипотеза не подтверждена: наличие металла не связано с высоким уровнем отражений.\")"
   ]
  }
 ],
 "metadata": {
  "kernelspec": {
   "display_name": ".venv",
   "language": "python",
   "name": "python3"
  },
  "language_info": {
   "codemirror_mode": {
    "name": "ipython",
    "version": 3
   },
   "file_extension": ".py",
   "mimetype": "text/x-python",
   "name": "python",
   "nbconvert_exporter": "python",
   "pygments_lexer": "ipython3",
   "version": "3.12.7"
  }
 },
 "nbformat": 4,
 "nbformat_minor": 2
}
