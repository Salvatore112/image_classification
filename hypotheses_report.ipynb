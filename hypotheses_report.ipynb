{
 "cells": [
  {
   "cell_type": "markdown",
   "metadata": {},
   "source": [
    "## Описание и проверка гипотез"
   ]
  },
  {
   "cell_type": "markdown",
   "metadata": {},
   "source": [
    "### Импорты"
   ]
  },
  {
   "cell_type": "code",
   "execution_count": 9,
   "metadata": {},
   "outputs": [],
   "source": [
    "import os\n",
    "import kagglehub\n",
    "import cv2\n",
    "import src.image_classification.features as feat\n",
    "\n",
    "from scipy.stats import mannwhitneyu, spearmanr, kruskal, levene, ttest_ind, pearsonr, chi2_contingency, f_oneway"
   ]
  },
  {
   "cell_type": "markdown",
   "metadata": {},
   "source": [
    "### Основной путь и классы, с которыми будет идти работа"
   ]
  },
  {
   "cell_type": "code",
   "execution_count": 10,
   "metadata": {},
   "outputs": [],
   "source": [
    "path = kagglehub.dataset_download(\"sumn2u/garbage-classification-v2\")\n",
    "classes = os.listdir(os.path.join(path, \"garbage-dataset\"))"
   ]
  },
  {
   "cell_type": "markdown",
   "metadata": {},
   "source": [
    "### Гипотеза №1 О наличие картона на картинке можно судить по скосу желтого цвета.\n",
    "\n",
    "В данной гипотезе мы предполагаем, что цветовая характеристика изображения, а именно наличие желтого цвета, может служить индикатором присутствия картона на картинке. Исходя из наблюдений, мы предполагаем, что изображения, содержащие картон, будут иметь более выраженный желтый оттенок по сравнению с изображениями, не содержащими этот материал.\n",
    "\n",
    "\n",
    "- Способы проверки:\n",
    "\n",
    "    - **t-критерий Стьюдента (t-test)**: Этот метод будет использован для сравнения средней доли желтого цвета между двумя группами. Мы проверим нулевую гипотезу о том, что средние значения доли желтого цвета в обеих группах не отличаются.\n",
    "\n",
    "    - **ANOVA (дисперсионный анализ)**: Если у нас есть более двух групп (например, различные виды картона и другие материалы), ANOVA поможет определить, есть ли значимые различия в количестве желтого цвета между всеми группами.\n",
    "\n",
    "    - **Критерий Манна-Уитни (U-тест)**: Непараметрический тест для сравнения распределений двух групп (в данном случае картон и другие классы)."
   ]
  },
  {
   "cell_type": "code",
   "execution_count": 11,
   "metadata": {},
   "outputs": [
    {
     "name": "stdout",
     "output_type": "stream",
     "text": [
      "t-test: Statistic = 3.683066343249196, p-value = 0.00023621963453461276\n",
      "ANOVA: Statistic = 16.865194578791744, p-value = 4.0292196417557166e-05\n",
      "Mann-Whitney: Statistic = 22080315.5, p-value = 1.0126318223771204e-146\n",
      "Итог: гипотеза подтверждена: наличие картона связано c желтым цветом.\n"
     ]
    }
   ],
   "source": [
    "cardboard_path = os.path.join(path + \"/garbage-dataset\", \"cardboard\")\n",
    "other_paths = [os.path.join(path + \"/garbage-dataset\", cls) for cls in classes if cls != \"cardboard\"]\n",
    "\n",
    "def load_images_from_folder(folder):\n",
    "    images = []\n",
    "    for filename in os.listdir(folder):\n",
    "        filepath = os.path.join(folder, filename)\n",
    "        image = cv2.imread(filepath)\n",
    "        if image is not None: \n",
    "            images.append(image)\n",
    "    return images\n",
    "\n",
    "yellow_feature = feat.AmountOfYellow()\n",
    "\n",
    "cardboard_images = load_images_from_folder(cardboard_path)\n",
    "cardboard_yellow_amounts = [yellow_feature(img) for img in cardboard_images]\n",
    "\n",
    "other_yellow_amounts = []\n",
    "for other_path in other_paths:\n",
    "    other_images = load_images_from_folder(other_path)\n",
    "    other_yellow_amounts.extend([yellow_feature(img) for img in other_images])\n",
    "\n",
    "# Проверка гипотез\n",
    "# 1. t-критерий Стьюдента\n",
    "t_stat, t_pvalue = ttest_ind(cardboard_yellow_amounts, other_yellow_amounts, equal_var=False)\n",
    "\n",
    "# 2. ANOVA\n",
    "anova_stat, anova_pvalue = f_oneway(cardboard_yellow_amounts, other_yellow_amounts)\n",
    "\n",
    "# 3. Критерий Манна-Уитни\n",
    "mann_stat, mann_pvalue = mannwhitneyu(cardboard_yellow_amounts, other_yellow_amounts, alternative='two-sided')\n",
    "\n",
    "results = {\n",
    "    \"t-test\": {\"statistic\": t_stat, \"p-value\": t_pvalue},\n",
    "    \"ANOVA\": {\"statistic\": anova_stat, \"p-value\": anova_pvalue},\n",
    "    \"Mann-Whitney\": {\"statistic\": mann_stat, \"p-value\": mann_pvalue},\n",
    "}\n",
    "\n",
    "for test, result in results.items():\n",
    "    print(f\"{test}: Statistic = {result['statistic']}, p-value = {result['p-value']}\")\n",
    "\n",
    "alpha = 0.05\n",
    "hypothesis_results = {test: result['p-value'] < alpha for test, result in results.items()}\n",
    "\n",
    "if all(hypothesis_results.values()):\n",
    "    print(\"Итог: гипотеза подтверждена: наличие картона связано c желтым цветом.\")\n",
    "else:\n",
    "    print(\"Итог: гипотеза не подтверждена: наличие картона не связано c желтым цветом.\")"
   ]
  },
  {
   "cell_type": "markdown",
   "metadata": {},
   "source": [
    "### Гипотеза №2 О наличие металла на картинке можно судить по скосу серого (серебряного) цвета.\n",
    "\n",
    "В данной гипотезе мы предполагаем, что цветовая характеристика изображения, а именно наличие серого или серебряного цвета, может служить индикатором присутствия металла на картинке. Мы предполагаем, что изображения, содержащие металл, будут иметь более выраженный серый оттенок по сравнению с изображениями других классов.\n",
    "\n",
    "- Способы проверки:\n",
    "\n",
    "    - **t-критерий Стьюдента (t-test)**: Этот метод будет использован для сравнения средней доли серебряного цвета между двумя группами. Мы проверим нулевую гипотезу о том, что средние значения доли серебряного цвета в обеих группах не отличаются.\n",
    "\n",
    "    - **ANOVA (дисперсионный анализ)**: Если у нас есть более двух групп (например, различные виды металлов и другие материалы), ANOVA поможет определить, есть ли значимые различия в количестве серебряного цвета между всеми группами. \n",
    "\n",
    "    - **Критерий Манна-Уитни (U-тест)**: Непараметрический тест для сравнения распределений двух групп (в данном случае металл и другие классы)."
   ]
  },
  {
   "cell_type": "code",
   "execution_count": 12,
   "metadata": {},
   "outputs": [
    {
     "name": "stdout",
     "output_type": "stream",
     "text": [
      "t-test: Statistic = -2.284424004913432, p-value = 0.022401779559765453\n",
      "ANOVA: Statistic = 0.5733189930562239, p-value = 0.448952071385762\n",
      "Mann-Whitney: Statistic = 10996543.5, p-value = 5.262970510833023e-16\n",
      "Гипотеза не подтверждена: наличие металла не связано c серебряным цветом.\n"
     ]
    }
   ],
   "source": [
    "metal_path = os.path.join(path + \"/garbage-dataset\", \"metal\")\n",
    "other_paths = [os.path.join(path + \"/garbage-dataset\", cls) for cls in classes if cls != \"metal\"]\n",
    "\n",
    "def load_images_from_folder(folder):\n",
    "    images = []\n",
    "    for filename in os.listdir(folder):\n",
    "        filepath = os.path.join(folder, filename)\n",
    "        image = cv2.imread(filepath)\n",
    "        if image is not None:\n",
    "            images.append(image)\n",
    "    return images\n",
    "\n",
    "silver_feature = feat.AmountOfSilver()\n",
    "\n",
    "metal_images = load_images_from_folder(metal_path)\n",
    "metal_silver_amounts = [silver_feature(img) for img in metal_images]\n",
    "\n",
    "other_silver_amounts = []\n",
    "for other_path in other_paths:\n",
    "    other_images = load_images_from_folder(other_path)\n",
    "    other_silver_amounts.extend([silver_feature(img) for img in other_images])\n",
    "\n",
    "# Проверка гипотез\n",
    "# 1. t-критерий Стьюдента\n",
    "t_stat, t_pvalue = ttest_ind(metal_silver_amounts, other_silver_amounts, equal_var=False)\n",
    "\n",
    "# 2. ANOVA\n",
    "anova_stat, anova_pvalue = f_oneway(metal_silver_amounts, other_silver_amounts)\n",
    "\n",
    "# 3. Критерий Манна-Уитни\n",
    "mann_stat, mann_pvalue = mannwhitneyu(metal_silver_amounts, other_silver_amounts, alternative='two-sided')\n",
    "\n",
    "results = {\n",
    "    \"t-test\": {\"statistic\": t_stat, \"p-value\": t_pvalue},\n",
    "    \"ANOVA\": {\"statistic\": anova_stat, \"p-value\": anova_pvalue},\n",
    "    \"Mann-Whitney\": {\"statistic\": mann_stat, \"p-value\": mann_pvalue},\n",
    "}\n",
    "\n",
    "for test, result in results.items():\n",
    "    print(f\"{test}: Statistic = {result['statistic']}, p-value = {result['p-value']}\")\n",
    "\n",
    "alpha = 0.05\n",
    "hypothesis_results = {test: result['p-value'] < alpha for test, result in results.items()}\n",
    "\n",
    "if all(hypothesis_results.values()):\n",
    "    print(\"Гипотеза подтверждена: наличие металла связано c серебряным цветом.\")\n",
    "else:\n",
    "    print(\"Гипотеза не подтверждена: наличие металла не связано c серебряным цветом.\")"
   ]
  }
 ],
 "metadata": {
  "kernelspec": {
   "display_name": ".venv",
   "language": "python",
   "name": "python3"
  },
  "language_info": {
   "codemirror_mode": {
    "name": "ipython",
    "version": 3
   },
   "file_extension": ".py",
   "mimetype": "text/x-python",
   "name": "python",
   "nbconvert_exporter": "python",
   "pygments_lexer": "ipython3",
   "version": "3.12.7"
  }
 },
 "nbformat": 4,
 "nbformat_minor": 2
}
