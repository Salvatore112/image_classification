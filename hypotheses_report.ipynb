{
 "cells": [
  {
   "cell_type": "markdown",
   "metadata": {},
   "source": [
    "## Описание и проверка гипотез"
   ]
  },
  {
   "cell_type": "markdown",
   "metadata": {},
   "source": [
    "### Импорты"
   ]
  },
  {
   "cell_type": "code",
   "execution_count": 1,
   "metadata": {},
   "outputs": [
    {
     "name": "stderr",
     "output_type": "stream",
     "text": [
      "/home/pasha/dump7/image_classification/.venv/lib/python3.12/site-packages/tqdm/auto.py:21: TqdmWarning: IProgress not found. Please update jupyter and ipywidgets. See https://ipywidgets.readthedocs.io/en/stable/user_install.html\n",
      "  from .autonotebook import tqdm as notebook_tqdm\n"
     ]
    }
   ],
   "source": [
    "import os\n",
    "import kagglehub\n",
    "import cv2\n",
    "import src.image_classification.features as feat\n",
    "import numpy as np\n",
    "import scipy.stats as stats\n",
    "import pandas as pd\n",
    "import glob\n",
    "\n",
    "from sklearn.preprocessing import LabelEncoder\n",
    "from scipy.stats import mannwhitneyu, spearmanr, kruskal, levene, ttest_ind, pearsonr, chi2_contingency, f_oneway"
   ]
  },
  {
   "cell_type": "markdown",
   "metadata": {},
   "source": [
    "### Загрузка всех изображений из папки "
   ]
  },
  {
   "cell_type": "code",
   "execution_count": 2,
   "metadata": {},
   "outputs": [],
   "source": [
    "def load_images_from_folder(folder):\n",
    "    images = []\n",
    "    for filename in os.listdir(folder):\n",
    "        filepath = os.path.join(folder, filename)\n",
    "        image = cv2.imread(filepath)\n",
    "        if image is not None: \n",
    "            images.append(image)\n",
    "    return images"
   ]
  },
  {
   "cell_type": "markdown",
   "metadata": {},
   "source": [
    "### Основной путь и классы, с которыми будет идти работа"
   ]
  },
  {
   "cell_type": "code",
   "execution_count": 3,
   "metadata": {},
   "outputs": [],
   "source": [
    "path = kagglehub.dataset_download(\"sumn2u/garbage-classification-v2\")\n",
    "classes = os.listdir(os.path.join(path, \"garbage-dataset\"))"
   ]
  },
  {
   "cell_type": "markdown",
   "metadata": {},
   "source": [
    "### Гипотеза №1 О наличие картона на картинке можно судить по скосу желтого цвета.\n",
    "\n",
    "В данной гипотезе мы предполагаем, что цветовая характеристика изображения, а именно наличие желтого цвета, может служить индикатором присутствия картона на картинке. Исходя из наблюдений, мы предполагаем, что изображения, содержащие картон, будут иметь более выраженный желтый оттенок по сравнению с изображениями, не содержащими этот материал.\n",
    "\n",
    "\n",
    "- Способы проверки:\n",
    "\n",
    "    - **t-критерий Стьюдента (t-test)**: Этот метод будет использован для сравнения средней доли желтого цвета между двумя группами. Мы проверим нулевую гипотезу о том, что средние значения доли желтого цвета в обеих группах не отличаются.\n",
    "\n",
    "    - **ANOVA (дисперсионный анализ)**: Если у нас есть более двух групп (например, различные виды картона и другие материалы), ANOVA поможет определить, есть ли значимые различия в количестве желтого цвета между всеми группами.\n",
    "\n",
    "    - **Критерий Манна-Уитни (U-тест)**: Непараметрический тест для сравнения распределений двух групп (в данном случае картон и другие классы)."
   ]
  },
  {
   "cell_type": "code",
   "execution_count": 4,
   "metadata": {},
   "outputs": [
    {
     "name": "stdout",
     "output_type": "stream",
     "text": [
      "t-test: Statistic = 3.683066343249196, p-value = 0.00023621963453461276\n",
      "ANOVA: Statistic = 16.865194578791744, p-value = 4.0292196417557166e-05\n",
      "Mann-Whitney: Statistic = 22080315.5, p-value = 1.0126318223771204e-146\n",
      "Итог: гипотеза подтверждена: наличие картона связано c желтым цветом.\n"
     ]
    }
   ],
   "source": [
    "cardboard_path = os.path.join(path + \"/garbage-dataset\", \"cardboard\")\n",
    "other_paths = [os.path.join(path + \"/garbage-dataset\", cls) for cls in classes if cls != \"cardboard\"]\n",
    "\n",
    "yellow_feature = feat.AmountOfYellow()\n",
    "\n",
    "cardboard_images = load_images_from_folder(cardboard_path)\n",
    "cardboard_yellow_amounts = [yellow_feature(img) for img in cardboard_images]\n",
    "\n",
    "other_yellow_amounts = []\n",
    "for other_path in other_paths:\n",
    "    other_images = load_images_from_folder(other_path)\n",
    "    other_yellow_amounts.extend([yellow_feature(img) for img in other_images])\n",
    "\n",
    "# Проверка гипотез\n",
    "# 1. t-критерий Стьюдента\n",
    "t_stat, t_pvalue = ttest_ind(cardboard_yellow_amounts, other_yellow_amounts, equal_var=False)\n",
    "\n",
    "# 2. ANOVA\n",
    "anova_stat, anova_pvalue = f_oneway(cardboard_yellow_amounts, other_yellow_amounts)\n",
    "\n",
    "# 3. Критерий Манна-Уитни\n",
    "mann_stat, mann_pvalue = mannwhitneyu(cardboard_yellow_amounts, other_yellow_amounts, alternative='two-sided')\n",
    "\n",
    "results = {\n",
    "    \"t-test\": {\"statistic\": t_stat, \"p-value\": t_pvalue},\n",
    "    \"ANOVA\": {\"statistic\": anova_stat, \"p-value\": anova_pvalue},\n",
    "    \"Mann-Whitney\": {\"statistic\": mann_stat, \"p-value\": mann_pvalue},\n",
    "}\n",
    "\n",
    "for test, result in results.items():\n",
    "    print(f\"{test}: Statistic = {result['statistic']}, p-value = {result['p-value']}\")\n",
    "\n",
    "alpha = 0.05\n",
    "hypothesis_results = {test: result['p-value'] < alpha for test, result in results.items()}\n",
    "\n",
    "if all(hypothesis_results.values()):\n",
    "    print(\"Итог: гипотеза подтверждена: наличие картона связано c желтым цветом.\")\n",
    "else:\n",
    "    print(\"Итог: гипотеза не подтверждена: наличие картона не связано c желтым цветом.\")"
   ]
  },
  {
   "cell_type": "markdown",
   "metadata": {},
   "source": [
    "### Гипотеза №2 О наличие металла на картинке можно судить по скосу серого (серебряного) цвета.\n",
    "\n",
    "В данной гипотезе мы предполагаем, что цветовая характеристика изображения, а именно наличие серого или серебряного цвета, может служить индикатором присутствия металла на картинке. Мы предполагаем, что изображения, содержащие металл, будут иметь более выраженный серый оттенок по сравнению с изображениями других классов.\n",
    "\n",
    "- Способы проверки:\n",
    "\n",
    "    - **t-критерий Стьюдента (t-test)**: Этот метод будет использован для сравнения средней доли серебряного цвета между двумя группами. Мы проверим нулевую гипотезу о том, что средние значения доли серебряного цвета в обеих группах не отличаются.\n",
    "\n",
    "    - **ANOVA (дисперсионный анализ)**: Если у нас есть более двух групп (например, различные виды металлов и другие материалы), ANOVA поможет определить, есть ли значимые различия в количестве серебряного цвета между всеми группами. \n",
    "\n",
    "    - **Критерий Манна-Уитни (U-тест)**: Непараметрический тест для сравнения распределений двух групп (в данном случае металл и другие классы)."
   ]
  },
  {
   "cell_type": "code",
   "execution_count": 5,
   "metadata": {},
   "outputs": [
    {
     "name": "stdout",
     "output_type": "stream",
     "text": [
      "t-test: Statistic = -2.284424004913432, p-value = 0.022401779559765453\n",
      "ANOVA: Statistic = 0.5733189930562239, p-value = 0.448952071385762\n",
      "Mann-Whitney: Statistic = 10996543.5, p-value = 5.262970510833023e-16\n",
      "Итог: гипотеза не подтверждена: наличие металла не связано c серебряным цветом.\n"
     ]
    }
   ],
   "source": [
    "metal_path = os.path.join(path + \"/garbage-dataset\", \"metal\")\n",
    "other_paths = [os.path.join(path + \"/garbage-dataset\", cls) for cls in classes if cls != \"metal\"]\n",
    "\n",
    "silver_feature = feat.AmountOfSilver()\n",
    "\n",
    "metal_images = load_images_from_folder(metal_path)\n",
    "metal_silver_amounts = [silver_feature(img) for img in metal_images]\n",
    "\n",
    "other_silver_amounts = []\n",
    "for other_path in other_paths:\n",
    "    other_images = load_images_from_folder(other_path)\n",
    "    other_silver_amounts.extend([silver_feature(img) for img in other_images])\n",
    "\n",
    "# Проверка гипотез\n",
    "# 1. t-критерий Стьюдента\n",
    "t_stat, t_pvalue = ttest_ind(metal_silver_amounts, other_silver_amounts, equal_var=False)\n",
    "\n",
    "# 2. ANOVA\n",
    "anova_stat, anova_pvalue = f_oneway(metal_silver_amounts, other_silver_amounts)\n",
    "\n",
    "# 3. Критерий Манна-Уитни\n",
    "mann_stat, mann_pvalue = mannwhitneyu(metal_silver_amounts, other_silver_amounts, alternative='two-sided')\n",
    "\n",
    "results = {\n",
    "    \"t-test\": {\"statistic\": t_stat, \"p-value\": t_pvalue},\n",
    "    \"ANOVA\": {\"statistic\": anova_stat, \"p-value\": anova_pvalue},\n",
    "    \"Mann-Whitney\": {\"statistic\": mann_stat, \"p-value\": mann_pvalue},\n",
    "}\n",
    "\n",
    "for test, result in results.items():\n",
    "    print(f\"{test}: Statistic = {result['statistic']}, p-value = {result['p-value']}\")\n",
    "\n",
    "alpha = 0.05\n",
    "hypothesis_results = {test: result['p-value'] < alpha for test, result in results.items()}\n",
    "\n",
    "if all(hypothesis_results.values()):\n",
    "    print(\"Итог: гипотеза подтверждена: наличие металла связано c серебряным цветом.\")\n",
    "else:\n",
    "    print(\"Итог: гипотеза не подтверждена: наличие металла не связано c серебряным цветом.\")"
   ]
  },
  {
   "cell_type": "markdown",
   "metadata": {},
   "source": [
    "### Гипотеза №3 На картинках с картоном присутствует множество параллельных линий.\n",
    "\n",
    "На картинках с картоном присутствует множество параллельных линий, что может быть связано с характерными текстурами и структурой материала. Данная гипотеза предполагает, что изображения с картоном содержат больше параллельных линий по сравнению с изображениями других классов.\n",
    "\n",
    "- Способы проверки:\n",
    "\n",
    "    - **t-критерий Стьюдента (t-test)**: тот метод позволяет сравнить среднюю долю параллельных линий в картинках с картоном и других классах. Мы рассчитываем t-статистику и p-значение, чтобы определить, есть ли статистически значимые различия между двумя группами.\n",
    "\n",
    "    - **ANOVA (дисперсионный анализ)**: Данный подход позволяет проверить, существуют ли значимые различия между несколькими группами (в данном случае между картоном и другими классами) по количеству параллельных линий. ANOVA помогает определить, влияет ли класс изображения на количество параллельных линий.\n",
    "\n",
    "    - **Критерий хи-квадрат**: Этот тест позволяет проверить гипотезу о различии долей изображений с высокими количествами параллельных линий между картоном и другими классами. Мы анализируем, сколько изображений из каждой группы попадает в категорию с высоким количеством параллельных линий и сравниваем эти данные."
   ]
  },
  {
   "cell_type": "code",
   "execution_count": 6,
   "metadata": {},
   "outputs": [
    {
     "name": "stdout",
     "output_type": "stream",
     "text": [
      "t-test: Statistic = -11.379057124078555, p-value = 1.9776123451846287e-29\n",
      "ANOVA: Statistic = 52.405427227996164, p-value = 4.680228101392663e-13\n",
      "Chi-square: Statistic = 19.34257889433447, p-value = 1.0924297310604447e-05\n",
      "Итог: гипотеза подтверждена: изображения c картоном имеют больше параллельных линий.\n"
     ]
    }
   ],
   "source": [
    "cardboard_path = os.path.join(path + \"/garbage-dataset\", \"cardboard\")\n",
    "other_paths = [os.path.join(path + \"/garbage-dataset\", cls) for cls in classes if cls != \"cardboard\"]\n",
    "\n",
    "cardboard_images = load_images_from_folder(cardboard_path)\n",
    "\n",
    "parallel_lines_feature_extractor = feat.AmountOfParallelLines()\n",
    "\n",
    "cardboard_features = [parallel_lines_feature_extractor(img) for img in cardboard_images]\n",
    "\n",
    "other_features = []\n",
    "for other_path in other_paths:\n",
    "    other_images = load_images_from_folder(other_path)\n",
    "    other_features.extend([parallel_lines_feature_extractor(img) for img in other_images])\n",
    "\n",
    "# Hypothesis testing\n",
    "# 1. Student's t-test\n",
    "t_stat, t_pvalue = ttest_ind(cardboard_features, other_features, equal_var=False)\n",
    "\n",
    "# 2. ANOVA\n",
    "anova_stat, anova_pvalue = f_oneway(cardboard_features, other_features)\n",
    "\n",
    "# 3. Chi-square test\n",
    "threshold = np.percentile(cardboard_features, 75) \n",
    "cardboard_high = sum(x >= threshold for x in cardboard_features)\n",
    "cardboard_low = len(cardboard_features) - cardboard_high\n",
    "other_high = sum(x >= threshold for x in other_features)\n",
    "other_low = len(other_features) - other_high\n",
    "chi2_stat, chi2_pvalue, _, _ = chi2_contingency([[cardboard_high, cardboard_low], [other_high, other_low]])\n",
    "\n",
    "results = {\n",
    "    \"t-test\": {\"statistic\": t_stat, \"p-value\": t_pvalue},\n",
    "    \"ANOVA\": {\"statistic\": anova_stat, \"p-value\": anova_pvalue},\n",
    "    \"Chi-square\": {\"statistic\": chi2_stat, \"p-value\": chi2_pvalue},\n",
    "}\n",
    "\n",
    "for test, result in results.items():\n",
    "    print(f\"{test}: Statistic = {result['statistic']}, p-value = {result['p-value']}\")\n",
    "\n",
    "alpha = 0.05\n",
    "hypothesis_results = {test: result['p-value'] < alpha for test, result in results.items()}\n",
    "\n",
    "if all(hypothesis_results.values()):\n",
    "    print(\"Итог: гипотеза подтверждена: изображения c картоном имеют больше параллельных линий.\")\n",
    "else:\n",
    "    print(\"Итог: гипотеза не подтверждена: изображения c картоном не имеют значительно больше параллельных линий.\")"
   ]
  },
  {
   "cell_type": "markdown",
   "metadata": {},
   "source": [
    "### Гипотеза №4 На изображениях со стеклом и на изображениях с металлом присутствуют цилиндрические формы, окружности.\n",
    "\n",
    "Цилиндрические формы и окружности являются характерными геометрическими элементами, которые могут встречаться на изображениях, содержащих стекло и металл.\n",
    "\n",
    "- Способы проверки:\n",
    "    - **ANOVA (дисперсионный анализ)**: Этот метод позволит нам проверить наличие значимых различий в количестве цилиндрических форм между группами (стекло, металл и другие классы). ANOVA поможет определить, существуют ли статистически значимые различия между средними значениями количества цилиндров в различных классах.\n",
    "\n",
    "    - **Корреляция Спирмена**: С помощью этого теста мы проанализируем взаимосвязь между классами изображений и количеством цилиндрических форм, что позволит оценить, насколько сильно класс материала влияет на количество цилиндров."
   ]
  },
  {
   "cell_type": "code",
   "execution_count": 5,
   "metadata": {},
   "outputs": [
    {
     "name": "stdout",
     "output_type": "stream",
     "text": [
      "Результаты тестов:\n",
      "ANOVA: Statistic = 20.58609333952457, p-value = 5.975820361191762e-35\n",
      "Pearson Correlation: Correlation = 0.18124483155277124, p-value = 1.498345430277706e-145\n",
      "Итог: гипотеза подтверждена: цилиндры чаще встречаются на изображениях стекла и металла.\n"
     ]
    }
   ],
   "source": [
    "base_path = path + \"/garbage-dataset/\"\n",
    "\n",
    "def process_images(class_name):\n",
    "    class_path = os.path.join(base_path, class_name)\n",
    "    cylinder_counts = []\n",
    "\n",
    "    for filename in os.listdir(class_path):\n",
    "        image_path = os.path.join(class_path, filename)\n",
    "        image = cv2.imread(image_path)\n",
    "        if image is not None:\n",
    "            cylinder_counts.append(feat.AmountOfCylinders()(image))\n",
    "\n",
    "    return cylinder_counts\n",
    "\n",
    "cylinder_data = {}\n",
    "for cls in classes:\n",
    "    cylinder_data[cls] = process_images(cls)\n",
    "\n",
    "# 1. ANOVA для сравнения всех классов\n",
    "anova_data = [cylinder_data[cls] for cls in classes]\n",
    "anova_stat, anova_p = f_oneway(*anova_data)\n",
    "\n",
    "# 2. Корреляция Спирмена между классами и количеством цилиндров\n",
    "class_labels = []\n",
    "cylinder_counts = []\n",
    "for idx, cls in enumerate(classes):\n",
    "    class_labels.extend([idx] * len(cylinder_data[cls]))\n",
    "    cylinder_counts.extend(cylinder_data[cls])\n",
    "\n",
    "spearman_corr, spearman_p = spearmanr(class_labels, cylinder_counts)\n",
    "\n",
    "\n",
    "print(\"Результаты тестов:\")\n",
    "print(f\"ANOVA: Statistic = {anova_stat}, p-value = {anova_p}\")\n",
    "print(f\"Pearson Correlation: Correlation = {spearman_corr}, p-value = {spearman_p}\")\n",
    "\n",
    "\n",
    "if anova_p < 0.05 and spearman_p < 0.05 :\n",
    "    print(\"Итог: гипотеза подтверждена: цилиндры чаще встречаются на изображениях стекла и металла.\")\n",
    "else:\n",
    "    print(\"Итог: гипотеза не подтверждена: не подтверждена.\")\n"
   ]
  },
  {
   "cell_type": "markdown",
   "metadata": {},
   "source": [
    "### Гипотеза №5 Металлические поверхности часто имеют высокую отражающую способность. \n",
    "\n",
    "Металлические поверхности, как правило, обладают высокой отражающей способностью, что делает их уникальными в сравнении с другими материалами. Высокая отражающая способность металла может влиять на визуальное восприятие объектов. В данном эксперименте мы стремимся проверить, действительно ли металлические поверхности обладают более высоким уровнем отражений по сравнению с другими классами материалов.\n",
    "\n",
    "- Способы проверки:\n",
    "\n",
    "    - **t-критерий Стьюдента (t-test):**  Этот метод позволяет сравнить среднюю отражающую способность изображений металла и других классов. Мы будем использовать его для определения, существуют ли статистически значимые различия между этими двумя группами.\n",
    "\n",
    "    - **Корреляция Пирсона:** С помощью этого теста мы проверим наличие линейной связи между количеством отражений и принадлежностью к классу \"металл\". Это поможет нам понять, насколько сильно отражающая способность связана с материалом.\n",
    "\n",
    "    - **Критерий хи-квадрат:** Этот тест будет использован для проверки отличий доли изображений с высоким уровнем отражений между металлом и другими классами. Мы разделим изображения на две группы: с высоким уровнем отражений и с низким, и проверим, есть ли статистически значимые различия между ними."
   ]
  },
  {
   "cell_type": "code",
   "execution_count": 7,
   "metadata": {},
   "outputs": [
    {
     "name": "stdout",
     "output_type": "stream",
     "text": [
      "t-test: Statistic = -2.5612454595984153, p-value = 0.010464870898548239\n",
      "Pearson Correlation: Statistic = 0.005891723334828736, p-value = 0.407558471373331\n",
      "Chi-square: Statistic = 35.91242941824723, p-value = 2.0638790312840235e-09\n",
      "Итог: гипотеза не подтверждена: наличие металла не связано с высоким уровнем отражений.\n"
     ]
    }
   ],
   "source": [
    "metal_path = os.path.join(path + \"/garbage-dataset\", \"metal\")\n",
    "other_paths = [os.path.join(path + \"/garbage-dataset\", cls) for cls in classes if cls != \"metal\"]\n",
    "\n",
    "reflection_calculator = feat.AmountOfReflections()\n",
    "\n",
    "metal_images = load_images_from_folder(metal_path)\n",
    "metal_reflections = [reflection_calculator(img) for img in metal_images]\n",
    "\n",
    "other_reflections = []\n",
    "for other_path in other_paths:\n",
    "    other_images = load_images_from_folder(other_path)\n",
    "    other_reflections.extend([reflection_calculator(img) for img in other_images])\n",
    "\n",
    "# 1. t-критерий Стьюдента\n",
    "t_stat, t_pvalue = ttest_ind(metal_reflections, other_reflections, equal_var=False)\n",
    "\n",
    "# 2. Корреляция Пирсона\n",
    "le = LabelEncoder()\n",
    "all_reflections = metal_reflections + other_reflections\n",
    "all_labels = ['metal'] * len(metal_reflections) + ['other'] * len(other_reflections)\n",
    "numeric_labels = le.fit_transform(all_labels)\n",
    "\n",
    "correlation, p_value_corr = pearsonr(all_reflections, numeric_labels)\n",
    "\n",
    "# 3. Тест хи-квадрат\n",
    "reflection_binary = [1 if reflection >= 100 else 0 for reflection in all_reflections]\n",
    "contingency_table = pd.crosstab(reflection_binary, numeric_labels)\n",
    "chi2_stat, p_value_chi2, _, _ = chi2_contingency(contingency_table)\n",
    "\n",
    "results = {\n",
    "    \"t-test\": {\"statistic\": t_stat, \"p-value\": t_pvalue},\n",
    "    \"Pearson Correlation\": {\"statistic\": correlation, \"p-value\": p_value_corr},\n",
    "    \"Chi-square\": {\"statistic\": chi2_stat, \"p-value\": p_value_chi2},\n",
    "}\n",
    "\n",
    "for test, result in results.items():\n",
    "    print(f\"{test}: Statistic = {result['statistic']}, p-value = {result['p-value']}\")\n",
    "\n",
    "alpha = 0.05\n",
    "hypothesis_results = {test: result['p-value'] < alpha for test, result in results.items()}\n",
    "\n",
    "if all(hypothesis_results.values()):\n",
    "    print(\"Итог: гипотеза подтверждена: наличие металла связано с высоким уровнем отражений.\")\n",
    "else:\n",
    "    print(\"Итог: гипотеза не подтверждена: наличие металла не связано с высоким уровнем отражений.\")"
   ]
  },
  {
   "cell_type": "markdown",
   "metadata": {},
   "source": [
    "### Гипотеза №6: Изображения с пластиком и стеклом часто имеют больше прозрачных областей.\n",
    "\n",
    "В данной гипотезе мы предполагаем, что изображения, содержащие пластик и стекло, будут иметь больше прозрачных областей по сравнению с изображениями других классов. Это может быть связано с природой этих материалов, которые часто обладают высокой степенью прозрачности и могут создавать визуально заметные прозрачные участки на изображениях.\n",
    "\n",
    "- Способы проверки:\n",
    "\n",
    "    - **Тест Манна-Уитни:**  Этот тест будет использоваться для сравнения распределений количества прозрачных областей на изображениях, содержащих пластик и стекло, с распределением на изображениях других классов.\n",
    "\n",
    "    - **Коэффициент корреляции Спирмена:** Мы применим этот метод для оценки монотонной зависимости между количеством прозрачных областей и классом изображения. Это позволит нам понять, насколько сильно количество прозрачных областей связано с принадлежностью изображения к классу \"пластик\" или \"стекло\" по сравнению с другими классами.\n",
    "\n",
    "    - **Тест Крускала-Уоллиса:** Этот тест будет использоваться для сравнения медианных значений количества прозрачных областей между тремя группами: пластик, стекло и другие классы. "
   ]
  },
  {
   "cell_type": "code",
   "execution_count": 15,
   "metadata": {},
   "outputs": [
    {
     "name": "stdout",
     "output_type": "stream",
     "text": [
      "Mann-Whitney U test: Statistic = 63373648.0, p-value = 2.0179651032763478e-82\n",
      "Spearman correlation: Correlation = -0.12222108103161104, p-value = 5.038550422304453e-83\n",
      "Kruskal-Wallis test: Statistic = 369.849759985094, p-value = 4.876913498602153e-81\n",
      "Итог: гипотеза подтверждена: пластик и стекло имеют больше прозрачных областей.\n"
     ]
    }
   ],
   "source": [
    "plastic_glass_classes = ['plastic', 'glass']\n",
    "transparency_data = {'plastic': [], 'glass': [], 'other': []}\n",
    "\n",
    "for class_name in classes:\n",
    "    class_path = os.path.join(path + \"/garbage-dataset/\", class_name)\n",
    "    image_paths = glob.glob(os.path.join(class_path, \"*.jpg\")) \n",
    "\n",
    "    for image_path in image_paths:\n",
    "        image = cv2.imread(image_path)\n",
    "        transparency = feat.AmountOfTransparency()(image)\n",
    "\n",
    "        if class_name in plastic_glass_classes:\n",
    "            transparency_data['plastic'].append(transparency)\n",
    "            transparency_data['glass'].append(transparency)\n",
    "        else:\n",
    "            transparency_data['other'].append(transparency)\n",
    "\n",
    "# 1. Тест Манна-Уитни \n",
    "u_statistic, p_value_mw = mannwhitneyu(transparency_data['plastic'] + transparency_data['glass'], transparency_data['other'])\n",
    "\n",
    "# 2. Коэффициент корреляции Спирмена\n",
    "all_transparency = transparency_data['plastic'] + transparency_data['glass'] + transparency_data['other']\n",
    "labels = ['plastic_glass'] * (len(transparency_data['plastic']) + len(transparency_data['glass'])) + ['other'] * len(transparency_data['other'])\n",
    "\n",
    "spearman_corr, p_value_spearman = spearmanr(all_transparency, [1 if label == 'plastic_glass' else 0 for label in labels])\n",
    "\n",
    "# 3. Тест Крускала-Уоллиса\n",
    "kruskal_stat, p_value_kruskal = kruskal(transparency_data['plastic'], transparency_data['glass'], transparency_data['other'])\n",
    "\n",
    "print(f\"Mann-Whitney U test: Statistic = {u_statistic}, p-value = {p_value_mw}\")\n",
    "print(f\"Spearman correlation: Correlation = {spearman_corr}, p-value = {p_value_spearman}\")\n",
    "print(f\"Kruskal-Wallis test: Statistic = {kruskal_stat}, p-value = {p_value_kruskal}\")\n",
    "\n",
    "alpha = 0.05\n",
    "if p_value_mw < alpha and p_value_spearman < alpha and p_value_kruskal < alpha:\n",
    "    print(\"Итог: гипотеза подтверждена: пластик и стекло имеют больше прозрачных областей.\")\n",
    "else:\n",
    "    print(\"Итог: гипотеза не подтверждена: нет статистически значимых различий между классами.\")"
   ]
  },
  {
   "cell_type": "markdown",
   "metadata": {},
   "source": [
    "### Гипотеза №7: Металлы часто имеют гладкую текстуру по сравнению с другими материалами.\n",
    "\n",
    "В данной гипотезе мы выдвигаем предположение, что изображения, содержащие металлические материалы, будут демонстрировать более гладкую текстуру по сравнению с изображениями других классов, таких как пластик, стекло и различные виды отходов. Это связано с физическими свойствами металлов, которые часто обладают высокой отражательной способностью и гладкой поверхностью.\n",
    "\n",
    "- Способы проверки:\n",
    "\n",
    "    - **Тест Манна-Уитни**: Этот тест будет применяться для сравнения распределений количества отражений на изображениях, содержащих металл, с распределением на изображениях других классов. \n",
    "    \n",
    "    - **Коэффициент корреляции Спирмена**: Мы используем этот метод для оценки монотонной зависимости между количеством отражений и классом изображения. Это поможет определить, насколько сильно количество отражений связано с принадлежностью изображения к классу \"металл\" по сравнению с другими классами.\n",
    "\n",
    "    - **Дисперсионный анализ (ANOVA)**: Этот метод будет использоваться для сравнения средних значений количества отражений между группами: металл и другие материалы. ANOVA позволяет оценить, есть ли статистически значимые различия в средних значениях между несколькими группами."
   ]
  },
  {
   "cell_type": "code",
   "execution_count": 17,
   "metadata": {},
   "outputs": [
    {
     "name": "stdout",
     "output_type": "stream",
     "text": [
      "Mann-Whitney U Test p-value: 8.969264820020402e-20\n",
      "Spearman correlation p-value: 8.239260503906844e-20\n",
      "ANOVA p-value: 0.4075584713849223\n",
      "Гипотеза не подтверждена: Нет значимых отличий между металлом и другими материалами.\n"
     ]
    }
   ],
   "source": [
    "metal_path = os.path.join(path + \"/garbage-dataset\", \"metal\")\n",
    "other_classes = [cl for cl in classes if cl != \"metal\"]\n",
    "\n",
    "def collect_reflections(class_dirs):\n",
    "    reflections = []\n",
    "    for class_dir in class_dirs:\n",
    "        for img_file in os.listdir(class_dir):\n",
    "            img_path = os.path.join(class_dir, img_file)\n",
    "            image = cv2.imread(img_path)\n",
    "            if image is not None:\n",
    "                reflections.append(feat.AmountOfReflections()(image))\n",
    "    return reflections\n",
    "\n",
    "metal_reflections = collect_reflections([metal_path])\n",
    "other_reflections = collect_reflections([os.path.join(path + \"/garbage-dataset\", cls) for cls in other_classes])\n",
    "\n",
    "# 1. Тест Манна-Уитни \n",
    "u_stat, p_value_mwu = mannwhitneyu(metal_reflections, other_reflections, alternative='two-sided')\n",
    "\n",
    "# 2. Корреляция Спирмена \n",
    "all_reflections = metal_reflections + other_reflections\n",
    "class_labels = ['metal'] * len(metal_reflections) + ['other'] * len(other_reflections)\n",
    "\n",
    "spearman_corr, p_value_spearman = spearmanr(all_reflections, [0]*len(metal_reflections) + [1]*len(other_reflections))\n",
    "\n",
    "# 3. Дисперсионный анализ (ANOVA) \n",
    "all_reflections_per_class = [\n",
    "    metal_reflections,\n",
    "    other_reflections\n",
    "] \n",
    "\n",
    "anova_stat, p_value_anova = f_oneway(*all_reflections_per_class)\n",
    "\n",
    "print(f'Mann-Whitney U Test p-value: {p_value_mwu}')\n",
    "print(f'Spearman correlation p-value: {p_value_spearman}')\n",
    "print(f'ANOVA p-value: {p_value_anova}')\n",
    "\n",
    "if p_value_mwu < 0.05 and p_value_spearman < 0.05 and p_value_anova < 0.05:\n",
    "    print(\"Итог: гипотеза подтверждена: Металлы имеют значимые отличия в количестве отражений по сравнению с другими материалами.\")\n",
    "else:\n",
    "    print(\"Итог: гипотеза не подтверждена: Нет значимых отличий между металлом и другими материалами.\")\n"
   ]
  },
  {
   "cell_type": "markdown",
   "metadata": {},
   "source": [
    "### Гипотеза №8: Металл и пластик часто имеют яркие участки, особенно под прямым освещением.\n",
    "\n",
    "В данной гипотезе предполагается, что изображения, содержащие металлические и пластиковые материалы, будут демонстрировать более яркие участки, особенно при прямом освещении, по сравнению с изображениями других материалов.\n",
    "\n",
    "- Способы проверки:\n",
    "\n",
    "    - **Тест Манна-Уитни**: тот тест будет использоваться для сравнения распределений количества ярких пикселей (отражений) на изображениях с металлом и пластиком по сравнению с изображениями других классов.\n",
    "\n",
    "    - **Корреляция Пирсона**: Этот метод позволит оценить линейную зависимость между количеством ярких пикселей и классом материала (металл и пластик против других).\n",
    "\n",
    "    - **Тест Левене**: Этот тест будет применяться для проверки равенства дисперсий яркости между изображениями с металлом и пластиком и изображениями с другими материалами. Он поможет определить, есть ли статистически значимые различия в вариации яркости между двумя группами."
   ]
  },
  {
   "cell_type": "code",
   "execution_count": 23,
   "metadata": {},
   "outputs": [
    {
     "name": "stdout",
     "output_type": "stream",
     "text": [
      "Mann-Whitney U Test: p-value = 0.24426556591075066\n",
      "Pearson correlation =  -0.015498280007591004\n",
      "Levene's test: p-value = 0.0123128462684152\n",
      "\n",
      "Итог: гипотеза не подтверждена: что металл и пластик не имеют яркие участки\n"
     ]
    }
   ],
   "source": [
    "shininess_data = {cls: [] for cls in classes}\n",
    "\n",
    "for cls in classes:\n",
    "    class_path = os.path.join(path + \"/garbage-dataset/\", cls)\n",
    "    for image_name in os.listdir(class_path):\n",
    "        if image_name.endswith('.jpg') or image_name.endswith('.png'):\n",
    "            img_path = os.path.join(class_path, image_name)\n",
    "            image = cv2.imread(img_path)\n",
    "            shininess = feat.AmountOfTextureShininess()(image)\n",
    "            shininess_data[cls].append(shininess)\n",
    "\n",
    "metal_plastic_shininess = np.array(shininess_data['metal'] + shininess_data['plastic'])\n",
    "other_shininess = []\n",
    "\n",
    "for cls in classes:\n",
    "    if cls not in ['metal', 'plastic']:\n",
    "        other_shininess.extend(shininess_data[cls])\n",
    "\n",
    "other_shininess = np.array(other_shininess)\n",
    "\n",
    "# 1. Тест Манна-Уитни \n",
    "u_statistic, p_value_metal_plastic_other = stats.mannwhitneyu(metal_plastic_shininess, other_shininess)\n",
    "\n",
    "# 2. Корреляция Пирсона между яркостью и классом \n",
    "shininess_values = np.concatenate([metal_plastic_shininess, other_shininess])\n",
    "labels = np.concatenate([np.ones(len(metal_plastic_shininess)), np.zeros(len(other_shininess))])\n",
    "\n",
    "correlation, p_val_pierson = stats.pearsonr(shininess_values, labels)\n",
    "\n",
    "# 3. Тест Левене на равенство дисперсий\n",
    "levene_statistic, p_value_levene = stats.levene(metal_plastic_shininess, other_shininess)\n",
    "\n",
    "print(\"Mann-Whitney U Test: p-value =\", p_value_metal_plastic_other)\n",
    "print(\"Pearson correlation = \", correlation)\n",
    "print(\"Levene's test: p-value =\", p_value_levene)\n",
    "\n",
    "if p_value_metal_plastic_other < 0.05 and p_val_pierson < 0.05 and p_value_levene < 0.05:\n",
    "    print(\"\\nИтог: гипотеза подтверждена: металл и пластик имеют яркие участки\")\n",
    "else:\n",
    "    print(\"\\nИтог: гипотеза не подтверждена: что металл и пластик не имеют яркие участки\")\n"
   ]
  },
  {
   "cell_type": "markdown",
   "metadata": {},
   "source": [
    "### Гипотеза №9: У металла анизотропия текстуры (ориентированность линий) может быть выше из-за шлифовки или полос.\n",
    "\n",
    "В данной гипотезе предполагается, что изображения, содержащие металлические материалы, будут демонстрировать более высокую анизотропию текстуры по сравнению с изображениями других классов (например, стекло, бумага и другие). Это может быть связано с процессами обработки металла, такими как шлифовка, которые создают ориентированные линии на поверхности.\n",
    "\n",
    "- Способы проверки:\n",
    "\n",
    "    - **Тест Манна-Уитни**: Этот тест будет использоваться для сравнения распределений анизотропии текстуры между изображениями с металлом и изображениями с другими классами.\n",
    "\n",
    "    - **Корреляция Спирмена**: Этот метод позволит оценить зависимость средней анизотропии текстуры от классов материала.\n",
    "\n",
    "    - **Тест Краскела-Уоллиса**:  Этот тест будет применяться для проверки различий в распределении анизотропии текстуры между всеми классами материалов."
   ]
  },
  {
   "cell_type": "code",
   "execution_count": 24,
   "metadata": {},
   "outputs": [
    {
     "name": "stdout",
     "output_type": "stream",
     "text": [
      "Результаты тестов:\n",
      "1. Тест Манна-Уитни U: p-value = 0.07172223142141215\n",
      "2. Тест Краскела-Уоллиса: p-value = 0.0\n",
      "3. Корреляция Спирмена: корреляция = -0.5636363636363636, p-value = 0.08972402831709125\n",
      "Гипотеза не подтверждена: нет статистически значимых доказательств.\n"
     ]
    }
   ],
   "source": [
    "anisotropy_data = {}\n",
    "\n",
    "for class_name in classes:\n",
    "    class_path = os.path.join(path + \"/garbage-dataset/\", class_name)\n",
    "    anisotropy_data[class_name] = []\n",
    "\n",
    "    for img_file in os.listdir(class_path):\n",
    "        img_path = os.path.join(class_path, img_file)\n",
    "        image = cv2.imread(img_path)\n",
    "        if image is not None:\n",
    "            anisotropy = feat.AmountOfSurfaceAnisotropy()(image)\n",
    "            anisotropy_data[class_name].append(anisotropy)\n",
    "\n",
    "metal_anisotropy = anisotropy_data['metal']\n",
    "non_metal_anisotropy = [value for class_name, values in anisotropy_data.items() if class_name != 'metal' for value in values]\n",
    "\n",
    "# 1. Тест Манна-Уитни\n",
    "mannwhitney_result = mannwhitneyu(metal_anisotropy, non_metal_anisotropy, alternative='greater')\n",
    "\n",
    "# 2. Тест Краскела-Уоллиса\n",
    "kruskal_result = kruskal(metal_anisotropy, *[anisotropy_data[class_name] for class_name in classes if class_name != 'metal'])\n",
    "\n",
    "# 3. Корреляция Спирмена между классами\n",
    "mean_anisotropies = [np.mean(anisotropy_data[class_name]) for class_name in classes]\n",
    "spearman_corr, spearman_pvalue = spearmanr(range(len(classes)), mean_anisotropies)\n",
    "\n",
    "print(\"Результаты тестов:\")\n",
    "print(f\"Mann-Whitney U Test: p-value = {mannwhitney_result.pvalue}\")\n",
    "print(f\"Kruskal-Wallis test: p-value = {kruskal_result.pvalue}\")\n",
    "print(f\"Spearman correlation: Correlation = {spearman_corr}, p-value = {spearman_pvalue}\")\n",
    "\n",
    "if mannwhitney_result.pvalue < 0.05 and kruskal_result.pvalue < 0.05 and spearman_pvalue < 0.05:\n",
    "    print(\"Итог: гипотеза подтверждена: текстурная анизотропия металла выше.\")\n",
    "else:\n",
    "    print(\"Итог: гипотеза не подтверждена: нет статистически значимых доказательств.\")\n"
   ]
  },
  {
   "cell_type": "markdown",
   "metadata": {},
   "source": [
    "### Гипотеза №10: Металл и стекло имеют более постоянные размеры и пропорции на изображениях. \n",
    "\n",
    "В данной гипотезе мы предполагаем, что объекты, изготовленные из металла и стекла, обладают более стабильными аспектными соотношениями по сравнению с другими классами объектов. Это может быть связано с их физическими свойствами, которые обеспечивают меньшую вариативность в размерах и формах при производстве и обработке.\n",
    "\n",
    "- Способы проверки:\n",
    "\n",
    "    - **Критерий Манна-Уитни:** Мы будем использовать критерий Манна-Уитни для анализа различий в средних значениях аспектных соотношений между группой \"металл и стекло\" и всеми остальными классами.\n",
    "\n",
    "    - **Критерия Левена:** Для проверки однородности дисперсий аспектных соотношений между группой \"металл и стекло\" и другими классами будет применен критерий Левена. \n",
    "\n",
    "    - **критерия Спирмена:** Проведем анализ корреляции между классами объектов (металл/стекло против остальных) и аспектными соотношениями с помощью коэффициента корреляции Спирмена. Этот метод позволит оценить, существует ли статистически значимая связь между типом материала и стабильностью его размеров.\n"
   ]
  },
  {
   "cell_type": "code",
   "execution_count": 10,
   "metadata": {},
   "outputs": [
    {
     "name": "stdout",
     "output_type": "stream",
     "text": [
      "Mann-Whitney U test: p-value = 0.21303798516232975\n",
      "Levene's test: p-value = 0.05283491837140859\n",
      "Spearman correlation: Correlation = -0.008858382256446987, p-value = 0.21304580872135098\n",
      "Итог: гипотеза не подтверждена: нет значимых различий в пропорциях.\n"
     ]
    }
   ],
   "source": [
    "def get_aspect_ratios(class_name):\n",
    "    class_path = os.path.join(base_path, class_name)\n",
    "    aspect_ratios = []\n",
    "    aspect_ratio_calculator = feat.AmountOfAspectRatio()\n",
    "\n",
    "    for image_name in os.listdir(class_path):\n",
    "        image_path = os.path.join(class_path, image_name)\n",
    "        image = cv2.imread(image_path) \n",
    "        if image is not None: \n",
    "            ratio = aspect_ratio_calculator(image) \n",
    "            if ratio is not None:\n",
    "                aspect_ratios.append(ratio)\n",
    "\n",
    "    return aspect_ratios\n",
    "\n",
    "metal_ratios = get_aspect_ratios('metal')\n",
    "glass_ratios = get_aspect_ratios('glass')\n",
    "other_ratios = []\n",
    "\n",
    "for cls in classes:\n",
    "    if cls not in ['metal', 'glass']:\n",
    "        other_ratios.extend(get_aspect_ratios(cls))\n",
    "\n",
    "glass_metal_ratios = metal_ratios + glass_ratios\n",
    "\n",
    "# 1. Тест Манна-Уитни\n",
    "mann_whitney_result = mannwhitneyu(glass_metal_ratios, other_ratios, alternative='two-sided')\n",
    "\n",
    "# 2. Тест Левена\n",
    "levene_result = levene(glass_metal_ratios, other_ratios)\n",
    "\n",
    "# 3. Корреляция Спирмена\n",
    "labels = [1] * len(glass_metal_ratios) + [0] * len(other_ratios) \n",
    "all_ratios = glass_metal_ratios + other_ratios\n",
    "spearman_result = spearmanr(labels, all_ratios)\n",
    "\n",
    "\n",
    "print(f\"Mann-Whitney U test: p-value = {mann_whitney_result.pvalue}\")\n",
    "print(f\"Levene's test: p-value = {levene_result.pvalue}\")\n",
    "print(f\"Spearman correlation: Correlation = {spearman_result.correlation}, p-value = {spearman_result.pvalue}\")\n",
    "\n",
    "alpha = 0.05\n",
    "if (mann_whitney_result.pvalue < alpha) and (levene_result.pvalue < alpha) and (spearman_result.pvalue < alpha):\n",
    "    print(\"Итог: гипотеза подтверждена: металл и стекло имеют более постоянные размеры и пропорции.\")\n",
    "else:\n",
    "    print(\"Итог: гипотеза не подтверждена: нет значимых различий в пропорциях.\")"
   ]
  },
  {
   "cell_type": "markdown",
   "metadata": {},
   "source": [
    "### Гипотеза №11 О наличие бумаги на картинке можно судить по скосу белого цвета.\n",
    "\n",
    "В этой гипотезе предполагается, что изображения, содержащие бумагу, будут иметь более высокую долю белого цвета по сравнению с изображениями других классов.\n",
    "\n",
    "- Способы проверки:\n",
    "\n",
    "    - **t-критерий Стьюдента (t-test)**: Сравнение средней доли белого цвета в картинках с бумагой и другими классами.\n",
    "\n",
    "    - **ANOVA (дисперсионный анализ)**: Проверка, есть ли значимые различия между группами (бумага и другие классы) по количеству белого цвета."
   ]
  },
  {
   "cell_type": "code",
   "execution_count": 8,
   "metadata": {},
   "outputs": [
    {
     "name": "stdout",
     "output_type": "stream",
     "text": [
      "t-test: Statistic = -3.6453611581374994, p-value = 0.00027298340264948675\n",
      "ANOVA: Statistic = 8.183087235905052, p-value = 0.004232707066685615\n",
      "Итог: гипотеза подтверждена: наличие бумаги связано c белым цветом.\n"
     ]
    }
   ],
   "source": [
    "paper_path = os.path.join(path + \"/garbage-dataset\", \"paper\")\n",
    "other_paths = [os.path.join(path + \"/garbage-dataset\", cls) for cls in classes if cls != \"paper\"]\n",
    "\n",
    "paper_images = load_images_from_folder(paper_path)\n",
    "paper_white_amounts = [feat.AmountOfWhiteness()(img) for img in paper_images]\n",
    "\n",
    "other_white_amounts = []\n",
    "for other_path in other_paths:\n",
    "    other_images = load_images_from_folder(other_path)\n",
    "    other_white_amounts.extend([feat.AmountOfWhiteness()(img) for img in other_images])\n",
    "\n",
    "# Проверка гипотез\n",
    "# 1. t-критерий Стьюдента\n",
    "t_stat, t_pvalue = ttest_ind(paper_white_amounts, other_white_amounts, equal_var=False)\n",
    "\n",
    "# 2. ANOVA\n",
    "anova_stat, anova_pvalue = f_oneway(paper_white_amounts, other_white_amounts)\n",
    "\n",
    "results = {\n",
    "    \"t-test\": {\"statistic\": t_stat, \"p-value\": t_pvalue},\n",
    "    \"ANOVA\": {\"statistic\": anova_stat, \"p-value\": anova_pvalue},\n",
    "}\n",
    "\n",
    "for test, result in results.items():\n",
    "    print(f\"{test}: Statistic = {result['statistic']}, p-value = {result['p-value']}\")\n",
    "\n",
    "alpha = 0.05\n",
    "hypothesis_results = {test: result['p-value'] < alpha for test, result in results.items()}\n",
    "\n",
    "if all(hypothesis_results.values()):\n",
    "    print(\"Итог: гипотеза подтверждена: наличие бумаги связано c белым цветом.\")\n",
    "else:\n",
    "    print(\"Итог: гипотеза не подтверждена: наличие бумаги не связано c белым цветом.\")"
   ]
  },
  {
   "cell_type": "markdown",
   "metadata": {},
   "source": [
    "### Гипотеза №12 Одежду можно отличить от других классов по наличию волнистых краёв или складок, которые часто встречаются на ткани.\n",
    "\n",
    "В данной гипотезе предполагается, что изображения одежды будут иметь большее количество складок и волнистых краёв по сравнению с изображениями других классов.\n",
    "\n",
    "- Способы проверки:\n",
    "\n",
    "    - **t-критерий Стьюдента (t-test)**: Сравнение среднего количества складок в картинках с одеждой и другими классами.\n",
    "\n",
    "    - **ANOVA (дисперсионный анализ)**: Проверка, есть ли значимые различия между группами (одежда и другие классы) по количеству складок.\n",
    "\n",
    "    - **Критерий Манна-Уитни (U-тест)**: тест для сравнения распределений двух групп (в данном случае одежда и другие классы)."
   ]
  },
  {
   "cell_type": "code",
   "execution_count": 34,
   "metadata": {},
   "outputs": [
    {
     "name": "stdout",
     "output_type": "stream",
     "text": [
      "Итог: гипотеза не подтверждена: различия между классами недостаточно статистически значимы.\n"
     ]
    }
   ],
   "source": [
    "clothes_path = path + \"/garbage-dataset/clothes\"\n",
    "other_classes = [cl for cl in classes if cl != \"clothes\"]\n",
    "data = {\"clothes\": [], \"others\": []}\n",
    "\n",
    "for img_name in os.listdir(clothes_path):\n",
    "    img_path = os.path.join(clothes_path, img_name)\n",
    "    img = cv2.imread(img_path)\n",
    "    if img is not None:\n",
    "        curvature = feat.AmountOfLineCurvature()(img)\n",
    "        data[\"clothes\"].append(curvature)\n",
    "\n",
    "for cls in other_classes:\n",
    "    class_path = path + \"/garbage-dataset/\" + cls\n",
    "    for img_name in os.listdir(class_path):\n",
    "        img_path = os.path.join(class_path, img_name)\n",
    "        img = cv2.imread(img_path)\n",
    "        if img is not None:\n",
    "            curvature = feat.AmountOfLineCurvature()(img)\n",
    "            data[\"others\"].append(curvature)\n",
    "\n",
    "clothes_curvature = np.array(data[\"clothes\"])\n",
    "others_curvature = np.array(data[\"others\"])\n",
    "\n",
    "# t-тест Стьюдента\n",
    "t_stat, t_p_value = ttest_ind(clothes_curvature, others_curvature, equal_var=False)\n",
    "\n",
    "# ANOVA\n",
    "a_stat, a_p_value = f_oneway(clothes_curvature, others_curvature)\n",
    "\n",
    "# U-тест Манна-Уитни\n",
    "u_stat, u_p_value = mannwhitneyu(clothes_curvature, others_curvature)\n",
    "\n",
    "if t_p_value < 0.05 and a_p_value < 0.05 and u_p_value < 0.05:\n",
    "    print(\"Итог: гипотеза подтверждена: одежду можно отличить от других классов по наличию волнистых краёв или складок.\")\n",
    "else:\n",
    "    print(\"Итог: гипотеза не подтверждена: различия между классами недостаточно статистически значимы.\")"
   ]
  },
  {
   "cell_type": "markdown",
   "metadata": {},
   "source": [
    "### Выводы\n",
    "#### Были подтверждены следующие гипотезы:\n",
    "\n",
    "- Гипотеза №1 О наличие картона на картинке можно судить по скосу желтого цвета.\n",
    "- Гипотеза №3 На картинках с картоном присутствует множество параллельных линий.\n",
    "- Гипотеза №4 На изображениях со стеклом и на изображениях с металлом присутствуют цилиндрические формы, окружности.\n",
    "- Гипотеза №6: Изображения с пластиком и стеклом часто имеют больше прозрачных областей.\n",
    "- Гипотеза №11 О наличие бумаги на картинке можно судить по скосу белого цвета.\n",
    "\n",
    "#### Были опровергнуты следующие гипотезы:\n",
    "\n",
    "- Гипотеза №2 О наличие металла на картинке можно судить по скосу серого (серебряного) цвета.\n",
    "- Гипотеза №5 Металлические поверхности часто имеют высокую отражающую способность. \n",
    "- Гипотеза №7: Металлы часто имеют гладкую текстуру по сравнению с другими материалами.\n",
    "- Гипотеза №8: Металл и пластик часто имеют яркие участки, особенно под прямым освещением.\n",
    "- Гипотеза №9: У металла анизотропия текстуры (ориентированность линий) может быть выше из-за шлифовки или полос.\n",
    "- Гипотеза №10: Металл и стекло имеют более постоянные размеры и пропорции на изображениях. \n",
    "- Гипотеза №12 Одежду можно отличить от других классов по наличию волнистых краёв или складок, которые часто встречаются на ткани."
   ]
  }
 ],
 "metadata": {
  "kernelspec": {
   "display_name": ".venv",
   "language": "python",
   "name": "python3"
  },
  "language_info": {
   "codemirror_mode": {
    "name": "ipython",
    "version": 3
   },
   "file_extension": ".py",
   "mimetype": "text/x-python",
   "name": "python",
   "nbconvert_exporter": "python",
   "pygments_lexer": "ipython3",
   "version": "3.12.7"
  }
 },
 "nbformat": 4,
 "nbformat_minor": 2
}
