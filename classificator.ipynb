{
 "cells": [
  {
   "cell_type": "code",
   "execution_count": 25,
   "metadata": {},
   "outputs": [
    {
     "name": "stdout",
     "output_type": "stream",
     "text": [
      "Path to dataset files: /home/pasha/.cache/kagglehub/datasets/sumn2u/garbage-classification-v2/versions/8\n"
     ]
    }
   ],
   "source": [
    "import kagglehub\n",
    "\n",
    "# Download latest version\n",
    "path = kagglehub.dataset_download(\"sumn2u/garbage-classification-v2\")\n",
    "\n",
    "print(\"Path to dataset files:\", path)"
   ]
  },
  {
   "cell_type": "code",
   "execution_count": 26,
   "metadata": {},
   "outputs": [
    {
     "name": "stdout",
     "output_type": "stream",
     "text": [
      "['trash', 'glass', 'battery', 'clothes', 'metal', 'plastic', 'cardboard', 'paper', 'biological', 'shoes']\n"
     ]
    }
   ],
   "source": [
    "import os\n",
    "import cv2\n",
    "import numpy as np\n",
    "import pandas as pd\n",
    "classes = os.listdir(os.path.join(path, \"garbage-dataset\"))\n",
    "print(classes)"
   ]
  },
  {
   "cell_type": "markdown",
   "metadata": {},
   "source": [
    "## Извлечение фичей"
   ]
  },
  {
   "cell_type": "code",
   "execution_count": 27,
   "metadata": {},
   "outputs": [],
   "source": [
    "def calculate_yellow_amount(image):\n",
    "    \"\"\"Calculate the amount of yellow color in the image.\"\"\"\n",
    "    hsv_image = cv2.cvtColor(image, cv2.COLOR_BGR2HSV)\n",
    "    lower_yellow = np.array([20, 100, 100])\n",
    "    upper_yellow = np.array([30, 255, 255])\n",
    "    yellow_mask = cv2.inRange(hsv_image, lower_yellow, upper_yellow)\n",
    "    yellow_amount = cv2.countNonZero(yellow_mask)\n",
    "    return yellow_amount\n",
    "\n",
    "def calculate_silver_amount(image):\n",
    "    \"\"\"Calculate the amount of silver color in the image.\"\"\"\n",
    "    hsv_image = cv2.cvtColor(image, cv2.COLOR_BGR2HSV)\n",
    "    lower_silver = np.array([0, 0, 200])\n",
    "    upper_silver = np.array([180, 25, 255])\n",
    "    silver_mask = cv2.inRange(hsv_image, lower_silver, upper_silver)\n",
    "    silver_amount = cv2.countNonZero(silver_mask)\n",
    "    return silver_amount\n",
    "\n",
    "def get_features(image):\n",
    "    \"\"\"Get a pair of features (yellow amount, silver amount) from the image.\"\"\"\n",
    "    yellow_amount = calculate_yellow_amount(image)\n",
    "    silver_amount = calculate_silver_amount(image)\n",
    "    return yellow_amount, silver_amount"
   ]
  },
  {
   "cell_type": "code",
   "execution_count": 28,
   "metadata": {},
   "outputs": [
    {
     "name": "stdout",
     "output_type": "stream",
     "text": [
      "(0, 34841)\n"
     ]
    }
   ],
   "source": [
    "test_im = image = cv2.imread(path + \"/garbage-dataset/metal/metal_181.jpg\")\n",
    "print(get_features(test_im))"
   ]
  },
  {
   "cell_type": "markdown",
   "metadata": {},
   "source": [
    "## Обучение классификатора"
   ]
  },
  {
   "cell_type": "code",
   "execution_count": 29,
   "metadata": {},
   "outputs": [
    {
     "name": "stdout",
     "output_type": "stream",
     "text": [
      "Accuracy: 0.22261573488489755\n",
      "              precision    recall  f1-score   support\n",
      "\n",
      "     battery       0.07      0.06      0.06       192\n",
      "  biological       0.23      0.25      0.24       190\n",
      "   cardboard       0.32      0.29      0.30       386\n",
      "     clothes       0.34      0.38      0.36      1086\n",
      "       glass       0.17      0.17      0.17       617\n",
      "       metal       0.09      0.08      0.08       191\n",
      "       paper       0.18      0.15      0.16       343\n",
      "     plastic       0.15      0.14      0.14       392\n",
      "       shoes       0.15      0.15      0.15       392\n",
      "       trash       0.06      0.07      0.07       164\n",
      "\n",
      "    accuracy                           0.22      3953\n",
      "   macro avg       0.18      0.17      0.17      3953\n",
      "weighted avg       0.22      0.22      0.22      3953\n",
      "\n"
     ]
    }
   ],
   "source": [
    "import os\n",
    "import cv2\n",
    "import numpy as np\n",
    "import pandas as pd\n",
    "from sklearn.model_selection import train_test_split\n",
    "from sklearn.ensemble import RandomForestClassifier\n",
    "from sklearn.metrics import classification_report, accuracy_score\n",
    "\n",
    "# Define the path to the dataset\n",
    "base_path = path + \"/garbage-dataset\"\n",
    "classes = ['trash', 'glass', 'battery', 'clothes', 'metal', 'plastic', 'cardboard', 'paper', 'biological', 'shoes']\n",
    "\n",
    "# Initialize lists to hold features and labels\n",
    "features = []\n",
    "labels = []\n",
    "\n",
    "# Loop through each class and extract features from images\n",
    "for class_name in classes:\n",
    "    class_path = os.path.join(base_path, class_name)\n",
    "    \n",
    "    for image_name in os.listdir(class_path):\n",
    "        image_path = os.path.join(class_path, image_name)\n",
    "        \n",
    "        # Read the image\n",
    "        image = cv2.imread(image_path)\n",
    "        \n",
    "        if image is not None:\n",
    "            # Use the new functions to calculate yellow and silver amounts\n",
    "            yellow_amount = calculate_yellow_amount(image)\n",
    "            silver_amount = calculate_silver_amount(image)\n",
    "            features.append([yellow_amount, silver_amount])\n",
    "            labels.append(class_name)\n",
    "\n",
    "# Convert features and labels to a DataFrame\n",
    "df = pd.DataFrame(features, columns=['yellow_amount', 'silver_amount'])\n",
    "df['label'] = labels\n",
    "\n",
    "# Split the dataset into training and testing sets\n",
    "X = df[['yellow_amount', 'silver_amount']]\n",
    "y = df['label']\n",
    "X_train, X_test, y_train, y_test = train_test_split(X, y, test_size=0.2, random_state=42)\n",
    "\n",
    "# Train a Random Forest Classifier\n",
    "classifier = RandomForestClassifier(n_estimators=100, random_state=42)\n",
    "classifier.fit(X_train, y_train)\n",
    "\n",
    "# Make predictions on the test set\n",
    "y_pred = classifier.predict(X_test)\n",
    "\n",
    "# Evaluate the model\n",
    "print(\"Accuracy:\", accuracy_score(y_test, y_pred))\n",
    "print(classification_report(y_test, y_pred))\n",
    "\n",
    "# Function to classify a new image\n",
    "def classify_image(image_path):\n",
    "    image = cv2.imread(image_path)\n",
    "    if image is not None:\n",
    "        # Use the new functions to calculate yellow and silver amounts\n",
    "        yellow_amount = calculate_yellow_amount(image)\n",
    "        silver_amount = calculate_silver_amount(image)\n",
    "        feature = np.array([[yellow_amount, silver_amount]])\n",
    "        prediction = classifier.predict(feature)\n",
    "        return prediction[0]\n",
    "    else:\n",
    "        return None\n"
   ]
  },
  {
   "cell_type": "code",
   "execution_count": 40,
   "metadata": {},
   "outputs": [
    {
     "name": "stdout",
     "output_type": "stream",
     "text": [
      "Predicted class: metal\n"
     ]
    },
    {
     "name": "stderr",
     "output_type": "stream",
     "text": [
      "/home/pasha/image_classification/.venv/lib/python3.12/site-packages/sklearn/utils/validation.py:2739: UserWarning: X does not have valid feature names, but RandomForestClassifier was fitted with feature names\n",
      "  warnings.warn(\n"
     ]
    }
   ],
   "source": [
    "result = classify_image(path + '/garbage-dataset/metal/metal_286.jpg')  # Adjust the path to a specific image\n",
    "print(\"Predicted class:\", result)"
   ]
  }
 ],
 "metadata": {
  "kernelspec": {
   "display_name": ".venv",
   "language": "python",
   "name": "python3"
  },
  "language_info": {
   "codemirror_mode": {
    "name": "ipython",
    "version": 3
   },
   "file_extension": ".py",
   "mimetype": "text/x-python",
   "name": "python",
   "nbconvert_exporter": "python",
   "pygments_lexer": "ipython3",
   "version": "3.12.7"
  }
 },
 "nbformat": 4,
 "nbformat_minor": 2
}
