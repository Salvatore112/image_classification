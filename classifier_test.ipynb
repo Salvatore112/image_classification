{
 "cells": [
  {
   "cell_type": "code",
   "execution_count": 13,
   "metadata": {},
   "outputs": [],
   "source": [
    "import joblib\n",
    "import cv2\n",
    "import kagglehub\n",
    "import numpy as np\n",
    "import os\n",
    "\n",
    "from collections import defaultdict\n",
    "from sklearn.model_selection import train_test_split\n",
    "from src.image_classification.features import (\n",
    "    AmountOfYellow,\n",
    "    AmountOfSilver,\n",
    "    AmountOfParallelLines,\n",
    "    AmountOfCylinders,\n",
    "    AmountOfReflections,\n",
    "    AmountOfTransparency,\n",
    "    AmountOfTextureSmoothness,\n",
    "    AmountOfTextureShininess,\n",
    "    AmountOfSurfaceAnisotropy,\n",
    "    AmountOfAspectRatio,\n",
    "    AmountOfWhiteness,\n",
    "    AmountOfLineCurvature,\n",
    ")"
   ]
  },
  {
   "cell_type": "code",
   "execution_count": 14,
   "metadata": {},
   "outputs": [
    {
     "ename": "NameError",
     "evalue": "name 'image_names' is not defined",
     "output_type": "error",
     "traceback": [
      "\u001b[0;31m---------------------------------------------------------------------------\u001b[0m",
      "\u001b[0;31mNameError\u001b[0m                                 Traceback (most recent call last)",
      "Cell \u001b[0;32mIn[14], line 3\u001b[0m\n\u001b[1;32m      1\u001b[0m path \u001b[38;5;241m=\u001b[39m kagglehub\u001b[38;5;241m.\u001b[39mdataset_download(\u001b[38;5;124m\"\u001b[39m\u001b[38;5;124msumn2u/garbage-classification-v2\u001b[39m\u001b[38;5;124m\"\u001b[39m)\n\u001b[1;32m      2\u001b[0m classes \u001b[38;5;241m=\u001b[39m os\u001b[38;5;241m.\u001b[39mlistdir(os\u001b[38;5;241m.\u001b[39mpath\u001b[38;5;241m.\u001b[39mjoin(path, \u001b[38;5;124m\"\u001b[39m\u001b[38;5;124mgarbage-dataset\u001b[39m\u001b[38;5;124m\"\u001b[39m))\n\u001b[0;32m----> 3\u001b[0m train_images, test_images_class \u001b[38;5;241m=\u001b[39m train_test_split(\u001b[43mimage_names\u001b[49m, test_size\u001b[38;5;241m=\u001b[39m\u001b[38;5;241m0.2\u001b[39m, random_state\u001b[38;5;241m=\u001b[39m\u001b[38;5;241m42\u001b[39m)\n\u001b[1;32m      5\u001b[0m \u001b[38;5;28;01mdef\u001b[39;00m \u001b[38;5;21mget_features\u001b[39m(img):\n\u001b[1;32m      6\u001b[0m     \u001b[38;5;28;01mreturn\u001b[39;00m (AmountOfYellow()(img),\n\u001b[1;32m      7\u001b[0m             AmountOfSilver()(img),\n\u001b[1;32m      8\u001b[0m             AmountOfParallelLines()(img),\n\u001b[0;32m   (...)\u001b[0m\n\u001b[1;32m     16\u001b[0m             AmountOfWhiteness()(img),\n\u001b[1;32m     17\u001b[0m             AmountOfLineCurvature()(img),)\n",
      "\u001b[0;31mNameError\u001b[0m: name 'image_names' is not defined"
     ]
    }
   ],
   "source": [
    "path = kagglehub.dataset_download(\"sumn2u/garbage-classification-v2\")\n",
    "classes = os.listdir(os.path.join(path, \"garbage-dataset\"))\n",
    "\n",
    "\n",
    "def get_features(img):\n",
    "    return (AmountOfYellow()(img),\n",
    "            AmountOfSilver()(img),\n",
    "            AmountOfParallelLines()(img),\n",
    "            AmountOfCylinders()(img),\n",
    "            AmountOfReflections()(img),\n",
    "            AmountOfTransparency()(img),\n",
    "            AmountOfTextureSmoothness()(img),\n",
    "            AmountOfTextureShininess()(img),\n",
    "            AmountOfSurfaceAnisotropy()(img),\n",
    "            AmountOfAspectRatio()(img),\n",
    "            AmountOfWhiteness()(img),\n",
    "            AmountOfLineCurvature()(img),)\n",
    "\n",
    "test_images = [] \n",
    "features = []\n",
    "labels = []\n",
    "for class_name in classes:\n",
    "    class_path = os.path.join(path + \"/garbage-dataset/\", class_name)\n",
    "    image_names = os.listdir(class_path)\n",
    "\n",
    "    # Split the images into training and testing sets (80% train, 20% test)\n",
    "    train_images, test_images_class = train_test_split(image_names, test_size=0.2, random_state=42)\n",
    "\n",
    "    # Process training images\n",
    "    for image_name in train_images:\n",
    "        image_path = os.path.join(class_path, image_name)\n",
    "        image = cv2.imread(image_path)\n",
    "\n",
    "        if image is not None:\n",
    "            features_list = get_features(image)\n",
    "            features.append(features_list)\n",
    "            labels.append(class_name)\n",
    "\n",
    "    # Collect test images for manual testing\n",
    "    for image_name in test_images_class:\n",
    "        test_images.append(os.path.join(class_path, image_name))\n",
    "\n",
    "classifier = joblib.load('random_forest_classifier.pkl')\n",
    "\n",
    "def classify_image(image_path):\n",
    "    image = cv2.imread(image_path)\n",
    "    if image is not None:\n",
    "        features_list = get_features(image)\n",
    "        feature = np.array([features_list])  \n",
    "        prediction = classifier.predict(feature)\n",
    "        return prediction[0]\n",
    "    else:\n",
    "        return None"
   ]
  },
  {
   "cell_type": "code",
   "execution_count": 12,
   "metadata": {},
   "outputs": [
    {
     "ename": "NameError",
     "evalue": "name 'test_images' is not defined",
     "output_type": "error",
     "traceback": [
      "\u001b[0;31m---------------------------------------------------------------------------\u001b[0m",
      "\u001b[0;31mNameError\u001b[0m                                 Traceback (most recent call last)",
      "Cell \u001b[0;32mIn[12], line 11\u001b[0m\n\u001b[1;32m      8\u001b[0m     \u001b[38;5;28;01mreturn\u001b[39;00m \u001b[38;5;28mdict\u001b[39m(predictions)  \n\u001b[1;32m     10\u001b[0m \u001b[38;5;28;01mfor\u001b[39;00m class_name \u001b[38;5;129;01min\u001b[39;00m classes:\n\u001b[0;32m---> 11\u001b[0m     results \u001b[38;5;241m=\u001b[39m test_classify(\u001b[43mtest_images\u001b[49m, class_name)\n\u001b[1;32m     12\u001b[0m     \u001b[38;5;28mprint\u001b[39m(\u001b[38;5;124m\"\u001b[39m\u001b[38;5;124mPredicted class counts for test images containing \u001b[39m\u001b[38;5;124m\"\u001b[39m \u001b[38;5;241m+\u001b[39m class_name \u001b[38;5;241m+\u001b[39m \u001b[38;5;124m'\u001b[39m\u001b[38;5;124m:\u001b[39m\u001b[38;5;124m'\u001b[39m)\n\u001b[1;32m     13\u001b[0m     \u001b[38;5;28;01mfor\u001b[39;00m class_name, count \u001b[38;5;129;01min\u001b[39;00m results\u001b[38;5;241m.\u001b[39mitems():\n",
      "\u001b[0;31mNameError\u001b[0m: name 'test_images' is not defined"
     ]
    }
   ],
   "source": [
    "# Classifier testing (runs classifier for the remaining images)\n",
    "def test_classify(test_images, target_class_name):\n",
    "    predictions = defaultdict(int)\n",
    "    for test_image in test_images:\n",
    "        if target_class_name in test_image:  \n",
    "            predicted_class = classify_image(test_image)  \n",
    "            predictions[predicted_class] += 1 \n",
    "    return dict(predictions)  \n",
    "\n",
    "for class_name in classes:\n",
    "    results = test_classify(test_images, class_name)\n",
    "    print(\"Predicted class counts for test images containing \" + class_name + ':')\n",
    "    for class_name, count in results.items():\n",
    "        print(f\"Class: {class_name}, Count: {count}\")"
   ]
  }
 ],
 "metadata": {
  "kernelspec": {
   "display_name": ".venv",
   "language": "python",
   "name": "python3"
  },
  "language_info": {
   "codemirror_mode": {
    "name": "ipython",
    "version": 3
   },
   "file_extension": ".py",
   "mimetype": "text/x-python",
   "name": "python",
   "nbconvert_exporter": "python",
   "pygments_lexer": "ipython3",
   "version": "3.12.7"
  }
 },
 "nbformat": 4,
 "nbformat_minor": 2
}
